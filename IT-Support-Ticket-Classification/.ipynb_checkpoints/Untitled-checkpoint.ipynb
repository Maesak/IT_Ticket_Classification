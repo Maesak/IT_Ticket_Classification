{
 "cells": [
  {
   "cell_type": "code",
   "execution_count": 1,
   "id": "947a9d61",
   "metadata": {},
   "outputs": [],
   "source": [
    "import pandas as pd\n",
    "import numpy as np\n",
    "\n",
    "import pandas as pd\n",
    "import re\n",
    "import spacy\n",
    "import nltk\n",
    "from nltk.stem import WordNetLemmatizer\n",
    "from nltk.corpus import stopwords"
   ]
  },
  {
   "cell_type": "code",
   "execution_count": 24,
   "id": "8c2f0521",
   "metadata": {},
   "outputs": [
    {
     "data": {
      "text/html": [
       "<div>\n",
       "<style scoped>\n",
       "    .dataframe tbody tr th:only-of-type {\n",
       "        vertical-align: middle;\n",
       "    }\n",
       "\n",
       "    .dataframe tbody tr th {\n",
       "        vertical-align: top;\n",
       "    }\n",
       "\n",
       "    .dataframe thead th {\n",
       "        text-align: right;\n",
       "    }\n",
       "</style>\n",
       "<table border=\"1\" class=\"dataframe\">\n",
       "  <thead>\n",
       "    <tr style=\"text-align: right;\">\n",
       "      <th></th>\n",
       "      <th>Ticket_Type</th>\n",
       "      <th>Ticket_Description</th>\n",
       "    </tr>\n",
       "  </thead>\n",
       "  <tbody>\n",
       "    <tr>\n",
       "      <th>0</th>\n",
       "      <td>Technical issue</td>\n",
       "      <td>I'm having an issue with the {product_purchase...</td>\n",
       "    </tr>\n",
       "    <tr>\n",
       "      <th>1</th>\n",
       "      <td>Technical issue</td>\n",
       "      <td>I'm having an issue with the {product_purchase...</td>\n",
       "    </tr>\n",
       "    <tr>\n",
       "      <th>2</th>\n",
       "      <td>Technical issue</td>\n",
       "      <td>I'm facing a problem with my {product_purchase...</td>\n",
       "    </tr>\n",
       "    <tr>\n",
       "      <th>3</th>\n",
       "      <td>Billing inquiry</td>\n",
       "      <td>I'm having an issue with the {product_purchase...</td>\n",
       "    </tr>\n",
       "    <tr>\n",
       "      <th>4</th>\n",
       "      <td>Billing inquiry</td>\n",
       "      <td>I'm having an issue with the {product_purchase...</td>\n",
       "    </tr>\n",
       "  </tbody>\n",
       "</table>\n",
       "</div>"
      ],
      "text/plain": [
       "       Ticket_Type                                 Ticket_Description\n",
       "0  Technical issue  I'm having an issue with the {product_purchase...\n",
       "1  Technical issue  I'm having an issue with the {product_purchase...\n",
       "2  Technical issue  I'm facing a problem with my {product_purchase...\n",
       "3  Billing inquiry  I'm having an issue with the {product_purchase...\n",
       "4  Billing inquiry  I'm having an issue with the {product_purchase..."
      ]
     },
     "execution_count": 24,
     "metadata": {},
     "output_type": "execute_result"
    }
   ],
   "source": [
    "path = r'.\\data\\customer_support_tickets.csv'\n",
    "data = pd.read_csv(path,usecols=['Ticket Description','Ticket Type'])\n",
    "data.rename(columns={'Ticket Description': 'Ticket_Description',\n",
    "                     'Ticket Type': 'Ticket_Type'}, inplace=True)\n",
    "# data.rename(columns={}, inplace=True)\n",
    "data.head()"
   ]
  },
  {
   "cell_type": "code",
   "execution_count": 25,
   "id": "24ef22f6",
   "metadata": {},
   "outputs": [
    {
     "data": {
      "text/plain": [
       "Refund request          1752\n",
       "Technical issue         1747\n",
       "Cancellation request    1695\n",
       "Product inquiry         1641\n",
       "Billing inquiry         1634\n",
       "Name: Ticket_Type, dtype: int64"
      ]
     },
     "execution_count": 25,
     "metadata": {},
     "output_type": "execute_result"
    }
   ],
   "source": [
    "data['Ticket_Type'].value_counts()"
   ]
  },
  {
   "cell_type": "code",
   "execution_count": 45,
   "id": "e7d4c087",
   "metadata": {},
   "outputs": [
    {
     "data": {
      "text/html": [
       "<div>\n",
       "<style scoped>\n",
       "    .dataframe tbody tr th:only-of-type {\n",
       "        vertical-align: middle;\n",
       "    }\n",
       "\n",
       "    .dataframe tbody tr th {\n",
       "        vertical-align: top;\n",
       "    }\n",
       "\n",
       "    .dataframe thead th {\n",
       "        text-align: right;\n",
       "    }\n",
       "</style>\n",
       "<table border=\"1\" class=\"dataframe\">\n",
       "  <thead>\n",
       "    <tr style=\"text-align: right;\">\n",
       "      <th></th>\n",
       "      <th>Ticket_Type</th>\n",
       "      <th>Ticket_Description</th>\n",
       "    </tr>\n",
       "  </thead>\n",
       "  <tbody>\n",
       "    <tr>\n",
       "      <th>0</th>\n",
       "      <td>Technical issue</td>\n",
       "      <td>i'm having an issue with the {product_purchase...</td>\n",
       "    </tr>\n",
       "    <tr>\n",
       "      <th>1</th>\n",
       "      <td>Technical issue</td>\n",
       "      <td>i'm having an issue with the {product_purchase...</td>\n",
       "    </tr>\n",
       "    <tr>\n",
       "      <th>2</th>\n",
       "      <td>Technical issue</td>\n",
       "      <td>i'm facing a problem with my {product_purchase...</td>\n",
       "    </tr>\n",
       "    <tr>\n",
       "      <th>3</th>\n",
       "      <td>Billing inquiry</td>\n",
       "      <td>i'm having an issue with the {product_purchase...</td>\n",
       "    </tr>\n",
       "    <tr>\n",
       "      <th>4</th>\n",
       "      <td>Billing inquiry</td>\n",
       "      <td>i'm having an issue with the {product_purchase...</td>\n",
       "    </tr>\n",
       "    <tr>\n",
       "      <th>...</th>\n",
       "      <td>...</td>\n",
       "      <td>...</td>\n",
       "    </tr>\n",
       "    <tr>\n",
       "      <th>8184</th>\n",
       "      <td>Product inquiry</td>\n",
       "      <td>my {product_purchased} is making strange noise...</td>\n",
       "    </tr>\n",
       "    <tr>\n",
       "      <th>8185</th>\n",
       "      <td>Technical issue</td>\n",
       "      <td>i'm having an issue with the {product_purchase...</td>\n",
       "    </tr>\n",
       "    <tr>\n",
       "      <th>8186</th>\n",
       "      <td>Technical issue</td>\n",
       "      <td>i'm having an issue with the {product_purchase...</td>\n",
       "    </tr>\n",
       "    <tr>\n",
       "      <th>8187</th>\n",
       "      <td>Product inquiry</td>\n",
       "      <td>i'm having an issue with the {product_purchase...</td>\n",
       "    </tr>\n",
       "    <tr>\n",
       "      <th>8188</th>\n",
       "      <td>Billing inquiry</td>\n",
       "      <td>there seems to be a hardware problem with my {...</td>\n",
       "    </tr>\n",
       "  </tbody>\n",
       "</table>\n",
       "<p>8189 rows × 2 columns</p>\n",
       "</div>"
      ],
      "text/plain": [
       "          Ticket_Type                                 Ticket_Description\n",
       "0     Technical issue  i'm having an issue with the {product_purchase...\n",
       "1     Technical issue  i'm having an issue with the {product_purchase...\n",
       "2     Technical issue  i'm facing a problem with my {product_purchase...\n",
       "3     Billing inquiry  i'm having an issue with the {product_purchase...\n",
       "4     Billing inquiry  i'm having an issue with the {product_purchase...\n",
       "...               ...                                                ...\n",
       "8184  Product inquiry  my {product_purchased} is making strange noise...\n",
       "8185  Technical issue  i'm having an issue with the {product_purchase...\n",
       "8186  Technical issue  i'm having an issue with the {product_purchase...\n",
       "8187  Product inquiry  i'm having an issue with the {product_purchase...\n",
       "8188  Billing inquiry  there seems to be a hardware problem with my {...\n",
       "\n",
       "[8189 rows x 2 columns]"
      ]
     },
     "execution_count": 45,
     "metadata": {},
     "output_type": "execute_result"
    }
   ],
   "source": [
    "data['Ticket_Description'] = data['Ticket_Description'].apply(lambda x: x.lower())             #apply(apply_lower)            #.str.lower()\n",
    "data"
   ]
  },
  {
   "cell_type": "code",
   "execution_count": 41,
   "id": "bf971470",
   "metadata": {},
   "outputs": [],
   "source": [
    "data = data.drop_duplicates()\n",
    "data = data.reset_index(drop=True)"
   ]
  },
  {
   "cell_type": "code",
   "execution_count": 42,
   "id": "e3539d7d",
   "metadata": {},
   "outputs": [
    {
     "name": "stdout",
     "output_type": "stream",
     "text": [
      "i'm having an issue with the {product_purchased}. please assist.\n",
      "\n",
      "your billing zip code is: 71701.\n",
      "\n",
      "we appreciate that you have requested a website address.\n",
      "\n",
      "please double check your email address. i've tried troubleshooting steps mentioned in the user manual, but the issue persists.\n",
      "================================================== \n",
      "\n",
      "i'm having an issue with the {product_purchased}. please assist.\n",
      "\n",
      "if you need to change an existing product.\n",
      "\n",
      "i'm having an issue with the {product_purchased}. please assist.\n",
      "\n",
      "if the issue i'm facing is intermittent. sometimes it works fine, but other times it acts up unexpectedly.\n",
      "================================================== \n",
      "\n",
      "i'm facing a problem with my {product_purchased}. the {product_purchased} is not turning on. it was working fine until yesterday, but now it doesn't respond.\n",
      "\n",
      "1.8.3 i really i'm using the original charger that came with my {product_purchased}, but it's not charging properly.\n",
      "================================================== \n",
      "\n",
      "i'm having an issue with the {product_purchased}. please assist.\n",
      "\n",
      "if you have a problem you're interested in and i'd love to see this happen, please check out the feedback. i've already contacted customer support multiple times, but the issue remains unresolved.\n",
      "================================================== \n",
      "\n",
      "i'm having an issue with the {product_purchased}. please assist.\n",
      "\n",
      "\n",
      "note: the seller is not responsible for any damages arising out of the delivery of the battleground game. please have the game in good condition and shipped to you i've noticed a sudden decrease in battery life on my {product_purchased}. it used to last much longer.\n",
      "================================================== \n",
      "\n",
      "i'm facing a problem with my {product_purchased}. the {product_purchased} is not turning on. it was working fine until yesterday, but now it doesn't respond. to remove the new {product_purch i've checked for any available software updates for my {product_purchased}, but there are none.\n",
      "================================================== \n",
      "\n",
      "i'm unable to access my {product_purchased} account. it keeps displaying an 'invalid credentials' error, even though i'm using the correct login information. how can i regain access to my account?\n",
      "\n",
      "solution 1 i'm unable to find the option to perform the desired action in the {product_purchased}. could you please guide me through the steps?\n",
      "================================================== \n",
      "\n",
      "i'm having an issue with the {product_purchased}. please assist. (thanks) i will contact all my suppliers and confirm.\n",
      "\n",
      "please try and find out whether their inventory is currently stocked, or any other reason. i am i've performed a factory reset on my {product_purchased}, hoping it would resolve the problem, but it didn't help.\n",
      "================================================== \n",
      "\n",
      "i'm having an issue with the {product_purchased}. please assist. thank you.\n",
      "\n",
      "{product_purchased} is not the exact type you might prefer, they use the exact same method for different uses. please help i've recently updated the firmware of my {product_purchased}, and the issue started happening afterward. could it be related to the update?\n",
      "================================================== \n",
      "\n",
      "my {product_purchased} is making strange noises and not functioning properly. i suspect there might be a hardware issue. can you please help me with this?\n",
      "\n",
      "} if we can, please send a \"request\" to dav the issue i'm facing is intermittent. sometimes it works fine, but other times it acts up unexpectedly.\n",
      "================================================== \n",
      "\n"
     ]
    }
   ],
   "source": [
    "for i in range(10):\n",
    "    print(data['Ticket_Description'][i])\n",
    "    print('='*50,'\\n')"
   ]
  },
  {
   "cell_type": "code",
   "execution_count": 43,
   "id": "425989eb",
   "metadata": {},
   "outputs": [
    {
     "data": {
      "text/plain": [
       "(8189, 2)"
      ]
     },
     "execution_count": 43,
     "metadata": {},
     "output_type": "execute_result"
    }
   ],
   "source": [
    "data.shape"
   ]
  },
  {
   "cell_type": "code",
   "execution_count": 44,
   "id": "92d687a3",
   "metadata": {},
   "outputs": [
    {
     "data": {
      "text/plain": [
       "\"i'm having an issue with the {product_purchased}. please assist.\\n\\nyour billing zip code is: 71701.\\n\\nwe appreciate that you have requested a website address.\\n\\nplease double check your email address. i've tried troubleshooting steps mentioned in the user manual, but the issue persists.\""
      ]
     },
     "execution_count": 44,
     "metadata": {},
     "output_type": "execute_result"
    }
   ],
   "source": [
    "data['Ticket_Description'][0]"
   ]
  },
  {
   "cell_type": "code",
   "execution_count": 31,
   "id": "397af815",
   "metadata": {},
   "outputs": [],
   "source": [
    "df = data.copy()"
   ]
  },
  {
   "cell_type": "markdown",
   "id": "03fccde6",
   "metadata": {},
   "source": [
    "### Pre-processing"
   ]
  },
  {
   "cell_type": "code",
   "execution_count": 32,
   "id": "582703bc",
   "metadata": {},
   "outputs": [],
   "source": [
    "nlp = spacy.load('en_core_web_sm')\n",
    "\n",
    "from nltk.stem import WordNetLemmatizer\n",
    "lemmatizer = WordNetLemmatizer()"
   ]
  },
  {
   "cell_type": "code",
   "execution_count": 59,
   "id": "386d8e63",
   "metadata": {},
   "outputs": [],
   "source": [
    "additional_stopwords = [\"i\", \"I\",\"hi\", \"hello\", \"dear\", \"please\", \"thank\",\"issue\",\"product\",\"purchase\"]\n",
    "all_stopwords = list(stopwords.words('english'))\n",
    "all_stopwords.extend(additional_stopwords)\n",
    "Stopwords = set(all_stopwords)\n",
    "\n",
    "def remove_stopwords(text):\n",
    "    return \" \".join([word for word in text.split() if word not in Stopwords])\n",
    "\n",
    "def get_lemm(text):\n",
    "    return \" \".join([lemmatizer.lemmatize(words) for words in text.split()])\n",
    "\n",
    "def get_gt2(text):\n",
    "    return \" \".join([word for word in text.split() if len(word)>2])\n",
    "\n",
    "def get_lemm_spacy(text):\n",
    "    doc = nlp(text)\n",
    "    return  \" \".join([token.lemma_ for token in doc])\n",
    "\n",
    "def clean(Text):\n",
    "    resumeText = re.sub('[%s]' % re.escape(\"\"\"!\"#$%&'()*+,-./:;<=>?@[\\]^_`{|}~\"\"\"), ' ', Text)  # remove punctuations\n",
    "    #resumeText = re.sub(r'[^\\x00-\\x7f]',r' ', resumeText) \n",
    "    resumeText = re.sub('\\s+', ' ', resumeText)  \n",
    "    resumeText = get_lemm_spacy(resumeText)\n",
    "    #resumeText = get_gt2(resumeText)\n",
    "    resumeText = remove_stopwords(resumeText)\n",
    "    resumeText = re.sub(r'\\d+', '', resumeText)\n",
    "    \n",
    "    return resumeText"
   ]
  },
  {
   "cell_type": "code",
   "execution_count": 60,
   "id": "27a711cb",
   "metadata": {},
   "outputs": [
    {
     "data": {
      "text/html": [
       "<div>\n",
       "<style scoped>\n",
       "    .dataframe tbody tr th:only-of-type {\n",
       "        vertical-align: middle;\n",
       "    }\n",
       "\n",
       "    .dataframe tbody tr th {\n",
       "        vertical-align: top;\n",
       "    }\n",
       "\n",
       "    .dataframe thead th {\n",
       "        text-align: right;\n",
       "    }\n",
       "</style>\n",
       "<table border=\"1\" class=\"dataframe\">\n",
       "  <thead>\n",
       "    <tr style=\"text-align: right;\">\n",
       "      <th></th>\n",
       "      <th>Ticket_Type</th>\n",
       "      <th>Ticket_Description</th>\n",
       "      <th>Clean_Ticket_Description</th>\n",
       "      <th>target</th>\n",
       "    </tr>\n",
       "  </thead>\n",
       "  <tbody>\n",
       "    <tr>\n",
       "      <th>0</th>\n",
       "      <td>Technical issue</td>\n",
       "      <td>i'm having an issue with the {product_purchase...</td>\n",
       "      <td>assist billing zip code  appreciate request we...</td>\n",
       "      <td>4</td>\n",
       "    </tr>\n",
       "    <tr>\n",
       "      <th>1</th>\n",
       "      <td>Technical issue</td>\n",
       "      <td>i'm having an issue with the {product_purchase...</td>\n",
       "      <td>assist need change exist assist face intermitt...</td>\n",
       "      <td>4</td>\n",
       "    </tr>\n",
       "    <tr>\n",
       "      <th>2</th>\n",
       "      <td>Technical issue</td>\n",
       "      <td>i'm facing a problem with my {product_purchase...</td>\n",
       "      <td>face problem turn work fine yesterday respond ...</td>\n",
       "      <td>4</td>\n",
       "    </tr>\n",
       "    <tr>\n",
       "      <th>3</th>\n",
       "      <td>Billing inquiry</td>\n",
       "      <td>i'm having an issue with the {product_purchase...</td>\n",
       "      <td>assist problem interested love see happen chec...</td>\n",
       "      <td>0</td>\n",
       "    </tr>\n",
       "    <tr>\n",
       "      <th>4</th>\n",
       "      <td>Billing inquiry</td>\n",
       "      <td>i'm having an issue with the {product_purchase...</td>\n",
       "      <td>assist note seller responsible damage arise de...</td>\n",
       "      <td>0</td>\n",
       "    </tr>\n",
       "    <tr>\n",
       "      <th>...</th>\n",
       "      <td>...</td>\n",
       "      <td>...</td>\n",
       "      <td>...</td>\n",
       "      <td>...</td>\n",
       "    </tr>\n",
       "    <tr>\n",
       "      <th>8464</th>\n",
       "      <td>Product inquiry</td>\n",
       "      <td>my {product_purchased} is making strange noise...</td>\n",
       "      <td>make strange noise function properly suspect m...</td>\n",
       "      <td>2</td>\n",
       "    </tr>\n",
       "    <tr>\n",
       "      <th>8465</th>\n",
       "      <td>Technical issue</td>\n",
       "      <td>i'm having an issue with the {product_purchase...</td>\n",
       "      <td>assist sell   also buy   mm get stuck buy   fa...</td>\n",
       "      <td>4</td>\n",
       "    </tr>\n",
       "    <tr>\n",
       "      <th>8466</th>\n",
       "      <td>Technical issue</td>\n",
       "      <td>i'm having an issue with the {product_purchase...</td>\n",
       "      <td>assist use different browser one use perform f...</td>\n",
       "      <td>4</td>\n",
       "    </tr>\n",
       "    <tr>\n",
       "      <th>8467</th>\n",
       "      <td>Product inquiry</td>\n",
       "      <td>i'm having an issue with the {product_purchase...</td>\n",
       "      <td>assist think category case notice occur consis...</td>\n",
       "      <td>2</td>\n",
       "    </tr>\n",
       "    <tr>\n",
       "      <th>8468</th>\n",
       "      <td>Billing inquiry</td>\n",
       "      <td>there seems to be a hardware problem with my {...</td>\n",
       "      <td>seem hardware problem screen flicker unable us...</td>\n",
       "      <td>0</td>\n",
       "    </tr>\n",
       "  </tbody>\n",
       "</table>\n",
       "<p>8189 rows × 4 columns</p>\n",
       "</div>"
      ],
      "text/plain": [
       "          Ticket_Type                                 Ticket_Description  \\\n",
       "0     Technical issue  i'm having an issue with the {product_purchase...   \n",
       "1     Technical issue  i'm having an issue with the {product_purchase...   \n",
       "2     Technical issue  i'm facing a problem with my {product_purchase...   \n",
       "3     Billing inquiry  i'm having an issue with the {product_purchase...   \n",
       "4     Billing inquiry  i'm having an issue with the {product_purchase...   \n",
       "...               ...                                                ...   \n",
       "8464  Product inquiry  my {product_purchased} is making strange noise...   \n",
       "8465  Technical issue  i'm having an issue with the {product_purchase...   \n",
       "8466  Technical issue  i'm having an issue with the {product_purchase...   \n",
       "8467  Product inquiry  i'm having an issue with the {product_purchase...   \n",
       "8468  Billing inquiry  there seems to be a hardware problem with my {...   \n",
       "\n",
       "                               Clean_Ticket_Description  target  \n",
       "0     assist billing zip code  appreciate request we...       4  \n",
       "1     assist need change exist assist face intermitt...       4  \n",
       "2     face problem turn work fine yesterday respond ...       4  \n",
       "3     assist problem interested love see happen chec...       0  \n",
       "4     assist note seller responsible damage arise de...       0  \n",
       "...                                                 ...     ...  \n",
       "8464  make strange noise function properly suspect m...       2  \n",
       "8465  assist sell   also buy   mm get stuck buy   fa...       4  \n",
       "8466  assist use different browser one use perform f...       4  \n",
       "8467  assist think category case notice occur consis...       2  \n",
       "8468  seem hardware problem screen flicker unable us...       0  \n",
       "\n",
       "[8189 rows x 4 columns]"
      ]
     },
     "execution_count": 60,
     "metadata": {},
     "output_type": "execute_result"
    }
   ],
   "source": [
    "df[\"Clean_Ticket_Description\"] = df.Ticket_Description.apply(lambda x: clean(x))     # progress_apply()\n",
    "df"
   ]
  },
  {
   "cell_type": "code",
   "execution_count": 61,
   "id": "03ab1599",
   "metadata": {},
   "outputs": [
    {
     "data": {
      "text/plain": [
       "\"i'm having an issue with the {product_purchased}. please assist.\\n\\nyour billing zip code is: 71701.\\n\\nwe appreciate that you have requested a website address.\\n\\nplease double check your email address. i've tried troubleshooting steps mentioned in the user manual, but the issue persists.\""
      ]
     },
     "execution_count": 61,
     "metadata": {},
     "output_type": "execute_result"
    }
   ],
   "source": [
    "df['Ticket_Description'][0]"
   ]
  },
  {
   "cell_type": "code",
   "execution_count": 62,
   "id": "4b9e9e51",
   "metadata": {},
   "outputs": [
    {
     "data": {
      "text/plain": [
       "'assist billing zip code  appreciate request website address double check email address try troubleshooting step mention user manual persist'"
      ]
     },
     "execution_count": 62,
     "metadata": {},
     "output_type": "execute_result"
    }
   ],
   "source": [
    "df['Clean_Ticket_Description'][0]"
   ]
  },
  {
   "cell_type": "code",
   "execution_count": 63,
   "id": "60a1a550",
   "metadata": {},
   "outputs": [
    {
     "data": {
      "text/plain": [
       "'assist need change exist assist face intermittent sometimes work fine time act unexpectedly'"
      ]
     },
     "execution_count": 63,
     "metadata": {},
     "output_type": "execute_result"
    }
   ],
   "source": [
    "df['Clean_Ticket_Description'][1]"
   ]
  },
  {
   "cell_type": "code",
   "execution_count": 64,
   "id": "101c8eed",
   "metadata": {},
   "outputs": [
    {
     "data": {
      "text/plain": [
       "'assist problem interested love see happen check feedback already contact customer support multiple time remain unresolved'"
      ]
     },
     "execution_count": 64,
     "metadata": {},
     "output_type": "execute_result"
    }
   ],
   "source": [
    "df['Clean_Ticket_Description'][3]"
   ]
  },
  {
   "cell_type": "code",
   "execution_count": 65,
   "id": "d2e55c79",
   "metadata": {},
   "outputs": [
    {
     "data": {
      "text/plain": [
       "'crash lose datum store way recover lose datum think might get back see problem need assistance soon possible affect work productivity'"
      ]
     },
     "execution_count": 65,
     "metadata": {},
     "output_type": "execute_result"
    }
   ],
   "source": [
    "df['Clean_Ticket_Description'][8188]"
   ]
  },
  {
   "cell_type": "markdown",
   "id": "bc2a3291",
   "metadata": {},
   "source": [
    "## Model Building\n",
    "### Label Encoding"
   ]
  },
  {
   "cell_type": "code",
   "execution_count": 66,
   "id": "d19485b7",
   "metadata": {},
   "outputs": [
    {
     "data": {
      "text/plain": [
       "3    1688\n",
       "4    1670\n",
       "1    1640\n",
       "2    1599\n",
       "0    1592\n",
       "Name: target, dtype: int64"
      ]
     },
     "execution_count": 66,
     "metadata": {},
     "output_type": "execute_result"
    }
   ],
   "source": [
    "df[\"target\"] = df.Ticket_Type.astype('category').cat.codes\n",
    "df.target.value_counts()"
   ]
  },
  {
   "cell_type": "markdown",
   "id": "9fc594d2",
   "metadata": {},
   "source": [
    "### Train & Test Split"
   ]
  },
  {
   "cell_type": "code",
   "execution_count": 67,
   "id": "acdb3d15",
   "metadata": {},
   "outputs": [],
   "source": [
    "from sklearn.model_selection import train_test_split \n",
    "\n",
    "x = df['Clean_Ticket_Description']\n",
    "y = df['target']\n",
    " \n",
    "x_train, x_test, y_train, y_test = train_test_split(x, y, test_size=0.2, random_state=0)"
   ]
  },
  {
   "cell_type": "markdown",
   "id": "b6d613b7",
   "metadata": {},
   "source": [
    "### Classifiers"
   ]
  },
  {
   "cell_type": "code",
   "execution_count": 68,
   "id": "1f4ad4b7",
   "metadata": {},
   "outputs": [],
   "source": [
    "# from sklearn.pipeline import Pipeline\n",
    "# from sklearn.feature_extraction.text import  TfidfTransformer\n",
    "\n",
    "from sklearn.feature_extraction.text import CountVectorizer, TfidfVectorizer\n",
    "\n",
    "from sklearn.naive_bayes import MultinomialNB\n",
    "from sklearn.svm import SVC\n",
    "from sklearn.ensemble import RandomForestClassifier\n",
    "import xgboost as xgb\n",
    "\n",
    "from sklearn.metrics import accuracy_score"
   ]
  },
  {
   "cell_type": "code",
   "execution_count": 69,
   "id": "48d5c9f4",
   "metadata": {},
   "outputs": [],
   "source": [
    "#vec 1\n",
    "c_vectorizer = CountVectorizer(stop_words=stopwords.words('english'))\n",
    "x_train_counts =c_vectorizer.fit_transform(x_train) \n",
    "x_test_counts = c_vectorizer.transform(x_test)\n",
    "\n",
    "#vec 2\n",
    "c_vectorizer_bigram = CountVectorizer(ngram_range=(1,2),stop_words=stopwords.words('english'))\n",
    "x_train_counts_bigram =c_vectorizer_bigram.fit_transform(x_train) \n",
    "x_test_counts_bigram = c_vectorizer_bigram.transform(x_test)\n",
    "\n",
    "#vec 3\n",
    "tfidf_vectorizer = TfidfVectorizer(stop_words=stopwords.words('english'))                         # ---> \n",
    "x_train_tfidf = tfidf_vectorizer.fit_transform(x_train)\n",
    "x_test_tfidf = tfidf_vectorizer.transform(x_test)\n",
    "\n",
    "#vec 4\n",
    "tfidf_vectorizer_bigram = TfidfVectorizer(ngram_range=(1,2),stop_words=stopwords.words('english'))# ---> stop_words=stopwords.words('english')\n",
    "x_train_tfidf_bigram = tfidf_vectorizer_bigram.fit_transform(x_train)\n",
    "x_test_tfidf_bigram = tfidf_vectorizer_bigram.transform(x_test)"
   ]
  },
  {
   "cell_type": "code",
   "execution_count": 70,
   "id": "8e743831",
   "metadata": {},
   "outputs": [],
   "source": [
    "# models\n",
    "clf = MultinomialNB()\n",
    "svc = SVC()\n",
    "rfc = RandomForestClassifier()"
   ]
  },
  {
   "cell_type": "code",
   "execution_count": 71,
   "id": "ec4ae497",
   "metadata": {},
   "outputs": [
    {
     "name": "stdout",
     "output_type": "stream",
     "text": [
      "Classification Accuracy for model 1 : 0.19963369963369965\n"
     ]
    }
   ],
   "source": [
    "#model 1\n",
    "clf.fit(x_train_counts, y_train)\n",
    "\n",
    "#prediction with model 1\n",
    "y_pred_counts = clf.predict(x_test_counts)\n",
    "accuracy = accuracy_score(y_test, y_pred_counts)\n",
    "print(\"Classification Accuracy for model 1 :\", accuracy)"
   ]
  },
  {
   "cell_type": "code",
   "execution_count": 72,
   "id": "c7b0ce50",
   "metadata": {},
   "outputs": [
    {
     "name": "stdout",
     "output_type": "stream",
     "text": [
      "Classification Accuracy for model 2: 0.20512820512820512\n"
     ]
    }
   ],
   "source": [
    "#model 2\n",
    "clf.fit(x_train_counts_bigram, y_train)\n",
    "\n",
    "#prediction with model 2\n",
    "y_pred_counts_bigram = clf.predict(x_test_counts_bigram)\n",
    "counts_bigram_accuracy = accuracy_score(y_test, y_pred_counts_bigram)\n",
    "print(\"Classification Accuracy for model 2:\", counts_bigram_accuracy)"
   ]
  },
  {
   "cell_type": "code",
   "execution_count": 73,
   "id": "0468d0be",
   "metadata": {},
   "outputs": [
    {
     "name": "stdout",
     "output_type": "stream",
     "text": [
      "Classification Accuracy model 3: 0.1978021978021978\n"
     ]
    }
   ],
   "source": [
    "#model 3\n",
    "clf.fit(x_train_tfidf, y_train)\n",
    "\n",
    "#prediction with model 3\n",
    "y_pred_tfidf = clf.predict(x_test_tfidf)\n",
    "tfidf_accuracy = accuracy_score(y_test, y_pred_tfidf)\n",
    "print(\"Classification Accuracy model 3:\", tfidf_accuracy)"
   ]
  },
  {
   "cell_type": "code",
   "execution_count": 74,
   "id": "6f70bf53",
   "metadata": {},
   "outputs": [
    {
     "name": "stdout",
     "output_type": "stream",
     "text": [
      "Classification Accuracy: 0.19047619047619047\n"
     ]
    }
   ],
   "source": [
    "#model 4\n",
    "clf.fit(x_train_tfidf_bigram, y_train)\n",
    "\n",
    "#prediction with model 4\n",
    "y_pred_tfidf_bigram = clf.predict(x_test_tfidf_bigram)\n",
    "tfidf_bigram_accuracy = accuracy_score(y_test, y_pred_tfidf_bigram)\n",
    "print(\"Classification Accuracy:\", tfidf_bigram_accuracy)"
   ]
  },
  {
   "cell_type": "code",
   "execution_count": 79,
   "id": "2ded9548",
   "metadata": {},
   "outputs": [
    {
     "name": "stdout",
     "output_type": "stream",
     "text": [
      "{'assist': 243, 'make': 2278, 'disappear': 1056, 'day': 930, 'due': 1148, 'time': 3949, 'limit': 2192, 'small': 3597, 'number': 2602, 'item': 1992, 'want': 4251, 'trade': 3999, 'need': 2525, 'assistance': 244, 'soon': 3626, 'possible': 2905, 'affect': 80, 'work': 4340, 'productivity': 2995, 'great': 1664, 'one': 2649, 'offer': 2628, 'customer': 880, 'surprised': 3809, 'read': 3147, 'article': 229, 'purch': 3065, 'check': 620, 'device': 1014, 'setting': 3480, 'sure': 3805, 'everything': 1286, 'configure': 755, 'correctly': 809, 'give': 1608, 'away': 299, 'free': 1488, 'mark': 2306, 'giveaway': 1609, 'open': 2657, 'till': 3947, 'pm': 2875, 'pst': 3053, 'worried': 4351, 'might': 2389, 'hardware': 1712, 'relate': 3222, 'require': 3270, 'repair': 3251, 'replacement': 3255, 'face': 1345, 'problem': 2974, 'turn': 4040, 'fine': 1417, 'yesterday': 4441, 'respond': 3290, 'think': 3926, 'ok': 2639, 'notice': 2586, 'sudden': 3780, 'decrease': 952, 'battery': 344, 'life': 2186, 'use': 4138, 'last': 2136, 'much': 2473, 'long': 2238, 'log': 2228, 'account': 17, 'say': 3393, 'lock': 2226, 'unlock': 4104, 'section': 3438, 'dashboard': 916, 'checkout': 622, 'navigate': 2514, 'page': 2716, 'review': 3312, 'troubleshooting': 4025, 'step': 3720, 'official': 2631, 'support': 3802, 'website': 4273, 'resolve': 3284, 'fix': 1436, 'price': 2957, 'sum': 3791, 'plus': 2874, 'name': 2502, 'try': 4034, 'clear': 668, 'cache': 522, 'datum': 920, 'app': 186, 'persist': 2799, 'quickly': 3112, 'text': 3892, 'change': 607, 'result': 3303, 'appear': 191, 'wrong': 4362, 'recently': 3170, 'update': 4123, 'firmware': 1423, 'start': 3699, 'happen': 1709, 'afterward': 86, 'could': 817, 'seller': 3451, 'buy': 510, 'someone': 3617, 'else': 1200, 'responsible': 3293, 'quality': 3103, 'return': 3309, 'unable': 4069, 'find': 1416, 'option': 2669, 'perform': 2791, 'desire': 997, 'action': 30, 'guide': 1684, 'also': 129, 'experience': 1316, 'bug': 496, 'inventory': 1957, 'count': 820, 'peculiar': 2774, 'error': 1261, 'message': 2369, 'pop': 2894, 'screen': 3423, 'mean': 2338, 'idea': 1828, 'establish': 1267, 'stable': 3685, 'internet': 1947, 'connection': 767, 'keep': 2079, 'disconnect': 1061, 'intermittently': 1943, 'troubleshoot': 4023, 'network': 2536, 'solution': 3612, 'follow': 1454, 'install': 1915, 'available': 292, 'software': 3609, 'none': 2575, 'personal': 2801, 'first': 1424, 'wuimap': 4365, 'three': 3935, 'instal': 1914, 'phone': 2818, 'gb': 1548, 'ram': 3128, 'specific': 3650, 'report': 3259, 'similar': 3552, 'sell': 3450, 'crazy': 843, 'fuzz': 1526, 'add': 45, 'cart': 562, 'strange': 3741, 'noise': 2568, 'function': 1515, 'properly': 3029, 'suspect': 3814, 'help': 1743, 'provide': 3042, 'good': 1636, 'knowledge': 2113, 'system': 3833, 'occur': 2621, 'recent': 3169, 'apology': 185, 'true': 4027, 'anyways': 178, 'next': 2547, 'week': 4276, 'probably': 2973, 'mind': 2401, 'new': 2540, 'multiple': 2475, 'version': 4195, 'ship': 3508, 'order': 2672, 'additional': 49, 'store': 3733, 'another': 169, 'online': 2651, 'retailer': 3306, 'cost': 813, 'refund': 3203, 'loss': 2246, 'damage': 901, 'cause': 575, 'rob': 3334, 'concerned': 746, 'security': 3441, 'would': 4354, 'like': 2189, 'ensure': 1240, 'data': 917, 'safe': 3367, 'cfg': 599, 'test': 3884, 'default': 955, 'auto': 285, 'testcase': 3885, 'config': 753, 'case': 565, 'seem': 3443, 'flicker': 1445, 'thought': 3933, 'accidentally': 13, 'delete': 967, 'important': 1859, 'way': 4264, 'recover': 3185, 'file': 1407, 'urgently': 4132, 'domain': 1110, 'worth': 4353, 'intermittent': 1942, 'sometimes': 3620, 'act': 29, 'unexpectedly': 4087, 'shut': 3533, 'afford': 83, 'directly': 1049, 'send': 3455, 'person': 2800, 'list': 2203, 'go': 1630, 'custom': 879, 'code': 696, 'etsy': 1274, 'share': 3498, 'suggestion': 3786, 'fill': 1409, 'form': 1470, 'already': 127, 'contact': 781, 'remain': 3233, 'unresolved': 4110, 'know': 2112, 'feel': 1392, 'enjoy': 1234, 'anything': 176, 'crash': 840, 'lose': 2245, 'click': 671, 'documentation': 1108, 'topic': 3982, 'hlsb': 1770, 'place': 2847, 'note': 2582, 'original': 2682, 'charger': 613, 'come': 714, 'charge': 612, 'request': 3267, 'value': 4163, 'unit': 4098, 'people': 2783, 'assume': 250, 'understand': 4082, 'getting': 1580, 'pay': 2762, 'currency': 872, 'sorry': 3631, 'save': 3390, 'btc': 487, 'address': 52, 'incorrect': 1879, 'define': 958, 'cgfloat': 602, 'coo': 796, 'core': 804, 'endif': 1227, 'todo': 3968, 'active': 33, 'email': 1204, 'forget': 1466, 'password': 2746, 'reset': 3277, 'backup': 315, 'method': 2374, 'later': 2139, 'company': 727, 'agree': 92, 'look': 2239, 'willing': 4313, 'hard': 1711, 'money': 2447, 'appropriate': 202, 'create': 846, 'key': 2085, 'subscription': 3772, 'productid': 2990, 'mr': 2464, 'president': 2949, 'mcfarland': 2334, 'mention': 2360, 'user': 4141, 'manual': 2293, 'access': 9, 'display': 1079, 'invalid': 1956, 'credential': 850, 'even': 1278, 'though': 3932, 'correct': 808, 'login': 2232, 'information': 1894, 'regain': 3207, 'buyer': 511, 'tutorial': 4042, 'community': 726, 'forum': 1473, 'luck': 2257, 'far': 1365, 'difficult': 1035, 'receive': 3167, 'wait': 4242, 'info': 1892, 'panda': 2724, 'description': 989, 'win': 4314, 'able': 3, 'determine': 1007, 'several': 3485, 'thing': 3924, 'remove': 3243, 'appreciate': 198, 'take': 3847, 'believe': 369, 'sale': 3371, 'july': 2065, 'different': 1034, 'cable': 521, 'adapter': 41, 'peripheral': 2795, 'encounter': 1221, 'document': 1107, 'retrieve': 3307, 'huge': 1808, 'must': 2481, 'least': 2153, 'paypal': 2765, 'may': 2327, 'factory': 1350, 'hope': 1784, 'exact': 1289, 'type': 4057, 'prefer': 2933, 'get': 1567, 'event': 1280, 'back': 309, 'tell': 3876, 'suppose': 3803, 'bring': 473, 'supply': 3801, 'game': 1533, 'overhead': 2697, 'doorstep': 1117, 'today': 3967, 'rely': 3232, 'heavily': 1738, 'daily': 900, 'task': 3857, 'hinder': 1761, 'language': 2130, 'let': 2169, 'merely': 2365, 'speedy': 3656, 'answer': 170, 'meantime': 2341, 'include': 1873, 'feedback': 1391, 'drop': 1141, 'xanj': 4370, 'comcast': 712, 'net': 2532, 'post': 2907, 'box': 453, 'little': 2210, 'heavy': 1739, 'model': 2430, 'widespread': 4306, 'glitch': 1618, 'freeze': 1495, 'frequently': 1496, 'prevent': 2953, 'previous': 2955, 'line': 2195, 'fund': 1518, 'transfer': 4006, 'designate': 994, 'button': 509, 'pick': 2827, 'late': 2137, 'fast': 1368, 'since': 3558, 'setup': 3483, 'consistently': 775, 'feature': 1384, 'application': 195, 'unexpected': 4086, 'operational': 2663, 'div': 1091, 'productdetail': 2989, 'class': 663, 'detail': 1003, 'ul': 4067, 'li': 2175, 'brand': 458, 'span': 3644, 'everyone': 1285, 'state': 3703, 'discount': 1067, 'pga': 2811, 'top': 3981, 'view': 4199, 'field': 1403, 'dav': 922, 'id': 1827, 'verify': 4192, 'enable': 1219, 'javascript': 2012, 'browser': 481, 'current': 873, 'microsoft': 2385, 'edge': 1175, 'vnc': 4225, 'select': 3446, 'plugin': 2872, 'extract': 1338, 'yes': 4440, 'harry': 1715, 'lean': 2151, 'bit': 401, 'certainly': 593, 'set': 3475, 'fail': 1351, 'connect': 766, 'dns': 1100, 'server': 3473, 'run': 3356, 'link': 2196, 'https': 1806, 'kb': 2078, 'google': 1638, 'com': 709, 'reference': 3199, 'year': 4436, 'old': 2642, 'male': 2281, 'daughter': 921, 'mine': 2402, 'car': 551, 'less': 2167, 'expensive': 1315, 'expand': 1313, 'pricing': 2958, 'cloud': 681, 'base': 337, 'andrew': 155, 'still': 3726, 'listing': 2205, 'end': 1224, 'special': 3648, 'pc': 2768, 'solve': 3615, 'thence': 3912, 'reach': 3146, 'honey': 1782, 'package': 2710, 'deliver': 970, 'recipient': 3173, 'delivery': 971, 'destination': 1001, 'notify': 2588, 'simply': 3556, 'restart': 3296, 'command': 717, 'happy': 1710, 'bill': 393, 'mina': 2400, 'mik': 2391, 'condition': 748, 'severity': 3486, 'pet': 2806, 'heal': 1731, 'call': 536, 'keto': 2083, 'lot': 2247, 'trouble': 4021, 'see': 3442, 'policy': 2888, 'vip': 4209, 'service': 3474, 'two': 4054, 'usd': 4137, 'alleghia': 117, 'al': 105, 'miss': 2412, 'wishlist': 4324, 'accept': 8, 'pledge': 2866, 'reliable': 3230, 'enter': 1241, 'however': 1794, 'payment': 2764, 'acknowledgment': 25, 'receipt': 3166, 'invoice': 1963, 'merchandise': 2363, 'disable': 1054, 'download': 1124, 'patch': 2751, 'center': 589, 'whereby': 4296, 'stitch': 3727, 'hip': 1763, 'virgo': 4213, 'voyager': 4232, 'series': 3468, 'vir': 4210, 'identifier': 1831, 'future': 1524, 'without': 4328, 'month': 2451, 'move': 2460, 'root': 3343, 'within': 4327, 'leave': 2154, 'carefully': 555, 'situation': 3568, 'forward': 1475, 'visit': 4216, 'shop': 3519, 'paulshoe': 2758, 'search': 3433, 'aspx': 238, 'penguin': 2780, 'process': 2979, 'separate': 3464, 'label': 2121, 'load': 2218, 'immediate': 1852, 'collect': 702, 'otherwise': 2688, 'break': 462, 'second': 3436, 'working': 4344, 'configuration': 754, 'valid': 4160, 'instruction': 1923, 'portion': 2899, 'unavailable': 4073, 'curse': 875, 'notempty': 2583, 'co': 692, 'io': 1966, 'plug': 2871, 'admin': 56, 'stuff': 3762, 'kjrkkkkk': 2108, 'rkkkkkkk': 3332, 'non': 2574, 'sudoku': 3782, 'soreby': 3630, 'stock': 3728, 'moment': 2443, 'copy': 801, 'detect': 1006, 'kotaku': 2116, 'interested': 1938, 'east': 1163, 'slice': 3586, 'asian': 235, 'steemit': 3719, 'www': 4366, 'viewtopic': 4200, 'improve': 1862, 'ui': 4064, 'well': 4283, 'tweak': 4046, 'carry': 561, 'thread': 3934, 'ask': 236, 'shipping': 3510, 'alternatively': 136, 'hear': 1735, 'arrive': 224, 'really': 3159, 'excited': 1300, 'mail': 2271, 'something': 3618, 'json': 2055, 'right': 3328, 'either': 1191, 'consent': 772, 'purchaser': 3073, 'compensation': 731, 'fully': 1513, 'implement': 1856, 'blockchain': 416, 'advice': 73, 'never': 2539, 'infect': 1890, 'question': 3108, 'comment': 718, 'michael': 2379, 'choice': 633, 'warranty': 4256, 'void': 4226, 'shall': 3491, 'third': 3927, 'party': 2742, 'anywhere': 179, 'stuck': 3759, 'boss': 443, 'brian': 465, 'jones': 2042, 'bjjones': 406, 'february': 1387, 'svccs': 3816, 'swift': 3823, 'collection': 703, 'billing': 394, 'tuxedo': 4043, 'home': 1779, 'wi': 4304, 'fi': 1402, 'although': 137, 'platform': 2854, 'touch': 3986, 'failure': 1352, 'br': 456, 'client': 672, 'chat': 618, 'cw': 893, 'cam': 538, 'fairly': 1355, 'recovery': 3187, 'ios': 1967, 'opencv': 2658, 'wrapper': 4358, 'script': 3426, 'pretty': 2952, 'survey': 3811, 'http': 1804, 'protocol': 3037, 'awhile': 301, 'actually': 37, 'allow': 121, 'replace': 3254, 'bobby': 428, 'amazing': 141, 'doctor': 1104, 'part': 2737, 'tv': 4044, 'advertising': 72, 'around': 219, 'yumiomizaka': 4454, 'yumiomiz': 4453, 'os': 2686, 'apple': 192, 'high': 1757, 'ces': 595, 'scare': 3400, 'full': 1511, 'docker': 1102, 'gitter': 1607, 'advance': 65, 'business': 506, 'quick': 3111, 'round': 3347, 'track': 3996, 'begin': 362, 'donation': 1113, 'quantity': 3104, 'color': 704, 'bin': 395, 'bash': 338, 'known': 2114, 'raspberry': 3136, 'minute': 2409, 'incorrectly': 1880, 'main': 2272, 'demand': 973, 'thiseed': 3929, 'discord': 1066, 'gg': 1583, 'qeigfqzrr': 3092, 'retail': 3305, 'sort': 3632, 'apologize': 184, 'story': 3737, 'alex': 110, 'freelance': 1493, 'writer': 4360, 'passion': 2744, 'build': 499, 'microusb': 2386, 'port': 2897, 'inch': 1872, 'panel': 2725, 'tilt': 3948, 'front': 1501, 'play': 2855, 'country': 824, 'monday': 2445, 'th': 3893, 'june': 2067, 'unresponsive': 4111, 'notification': 2587, 'put': 3080, 'handle': 1705, 'private': 2970, 'setproduct': 3478, 'struct': 3755, 'register': 3212, 'whenever': 4295, 'early': 1160, 'example': 1292, 'remote': 3240, 'control': 789, 'tcp': 3862, 'packet': 2713, 'gameserver': 1538, 'nice': 2553, 'always': 139, 'usp': 4146, 'contain': 783, 'rd': 3145, 'many': 2299, 'weight': 4280, 'dimension': 1041, 'wallroad': 4248, 'tag': 3844, 'author': 279, 'zilp': 4464, 'deal': 938, 'scam': 3398, 'protect': 3035, 'direct': 1047, 'conflict': 758, 'advise': 75, 'power': 2917, 'kahneman': 2072, 'response': 3291, 'asap': 231, 'level': 2172, 'manufacturer': 2296, 'provider': 3043, 'confirm': 756, 'disabled': 1055, 'responsibility': 3292, 'transaction': 4004, 'complete': 734, 'prior': 2967, 'simple': 3554, 'via': 4196, 'portal': 2898, 'shoezapark': 3517, 'united': 4099, 'states': 3705, 'canada': 541, 'australia': 273, 'zealand': 4459, 'po': 2879, 'vancouver': 4167, 'ca': 519, 'embed': 1206, 'bar': 334, 'successfully': 3779, 'activate': 31, 'myjail': 2494, 'continue': 787, 'improved': 1863, 'simplify': 3555, 'handling': 1707, 'editing': 1177, 'pleased': 2861, 'video': 4198, 'azure': 303, 'tool': 3980, 'rv': 3361, 'xfcffcc': 4398, 'xf': 4397, 'belong': 370, 'input': 1904, 'suggest': 3785, 'demonstrate': 977, 'sudo': 3781, 'pwd': 3084, 'launch': 2140, 'press': 2950, 'menu': 2362, 'attempt': 261, 'workaround': 4341, 'rating': 3139, 'automatically': 288, 'stop': 3731, 'choose': 634, 'restore': 3301, 'direction': 1048, 'kg': 2092, 'rice': 3322, 'empty': 1216, 'china': 630, 'currently': 874, 'false': 1358, 'size': 3570, 'gift': 1593, 'card': 552, 'starbuck': 3697, 'upgrade': 4125, 'theolia': 3915, 'amazon': 142, 'become': 359, 'ip': 1969, 'variety': 4171, 'intuitive': 1954, 'interface': 1940, 'advantage': 67, 'talk': 3850, 'valve': 4165, 'mode': 2429, 'steam': 3715, 'annotation': 160, 'distribute': 1086, 'recall': 3165, 'cutlip': 890, 'owner': 2703, 'de': 935, 'uk': 4066, 'ireland': 1977, 'italy': 1991, 'luxembourg': 2262, 'spain': 3642, 'nothing': 2584, 'completely': 735, 'exceptional': 1297, 'duplicate': 1151, 'absolutely': 6, 'delightful': 969, 'emote': 1212, 'monkey': 2450, 'roll': 3340, 'inconvenience': 1878, 'friend': 1499, 'ever': 1281, 'love': 2249, 'sweet': 3820, 'sweetest': 3822, 'category': 572, 'camera': 539, 'local': 2223, 'ago': 91, 'rep': 3249, 'navigation': 2515, 'apply': 196, 'filter': 1410, 'selecting': 3447, 'dhcp': 1020, 'reply': 3257, 'edit': 1176, 'poster': 2908, 'dredd': 1135, 'router': 3348, 'regularly': 3215, 'web': 4267, 'regard': 3208, 'posting': 2909, 'questioner': 3109, 'complain': 732, 'badam': 318, 'date': 919, 'format': 1471, 'wb': 4265, 'league': 2149, 'playback': 2856, 'recommend': 3179, 'pregnant': 2938, 'woman': 4334, 'whose': 4303, 'pregnancy': 2937, 'likely': 2190, 'age': 87, 'shelter': 3502, 'house': 1792, 'man': 2286, 'immune': 1854, 'outside': 2695, 'world': 4345, 'vendor': 4185, 'restriction': 3302, 'subscribe': 3770, 'confirmation': 757, 'thereomicc': 3918, 'site': 3567, 'significant': 3547, 'prime': 2962, 'tier': 3944, 'isp': 1987, 'oracle': 2671, 'wonder': 4335, 'glad': 1614, 'write': 4359, 'left': 2156, 'inform': 1893, 'yet': 4442, 'course': 828, 'disqus': 1081, 'external': 1336, 'drive': 1138, 'samsung': 3376, 'screenshot': 3424, 'standard': 3694, 'component': 739, 'prevention': 2954, 'php': 2822, 'deprecate': 984, 'anymore': 174, 'exist': 1311, 'credit': 851, 'paul': 2757, 'polite': 2890, 'aggressive': 90, 'banner': 333, 'unique': 4097, 'shelf': 3501, 'metadata': 2372, 'goal': 1631, 'dec': 945, 'cash': 567, 'release': 3228, 'debit': 942, 'cs': 861, 'conn': 765, 'mb': 2329, 'extra': 1337, 'table': 3837, 'meet': 2353, 'reject': 3221, 'purpose': 3076, 'oop': 2656, 'veejay': 4181, 'premium': 2941, 'member': 2356, 'join': 2040, 'secure': 3439, 'explosive': 1329, 'curl': 871, 'api': 182, 'sli': 3585, 'avatar': 293, 'xnuxejlhs': 4414, 'pqcv': 2924, 'obtain': 2618, 'frustrating': 1506, 'computer': 742, 'immediately': 1853, 'enormous': 1236, 'structure': 3756, 'technique': 3868, 'republish': 3265, 'appdeck': 189, 'guess': 1682, 'descriptionocolor': 990, 'ingredient': 1897, 'vacation': 4157, 'blue': 421, 'pair': 2721, 'chen': 624, 'director': 1050, 'marketing': 2309, 'communication': 725, 'gfk': 1582, 'point': 2884, 'associate': 246, 'somebody': 3616, 'spectrum': 3654, 'approach': 201, 'glamorous': 1616, 'per': 2786, 'research': 3273, 'url': 4133, 'browse': 480, 'window': 4315, 'vista': 4218, 'manager': 2289, 'emergency': 1209, 'exactly': 1290, 'every': 1282, 'rebate': 3163, 'enough': 1237, 'cover': 832, 'meal': 2337, 'maybe': 2328, 'netflix': 2534, 'trick': 4017, 'chrome': 637, 'extension': 1333, 'sans': 3379, 'beta': 379, 'jbl': 2014, 'group': 1675, 'proud': 3039, 'extensive': 1334, 'assortment': 249, 'amount': 149, 'certain': 592, 'specify': 3653, 'gustafsson': 1687, 'sincerely': 3560, 'windows': 4316, 'gmail': 1625, 'dot': 1118, 'facebook': 1346, 'arrange': 220, 'property': 3030, 'potionpotion': 2913, 'attach': 257, 'ec': 1170, 'refer': 3198, 'hold': 1776, 'cody': 697, 'utc': 4153, 'hour': 1791, 'st': 3683, 'september': 3466, 'participate': 2739, 'news': 2545, 'affiliate': 82, 'privacy': 2969, 'alicorn': 115, 'common': 723, 'match': 2316, 'packaging': 2711, 'afraid': 84, 'picture': 2829, 'incomplete': 1876, 'aware': 298, 'pin': 2834, 'twitter': 4053, 'easter': 1164, 'en': 1218, 'us': 4134, 'summon': 3795, 'ready': 3153, 'popular': 2895, 'status': 3707, 'typical': 4058, 'console': 776, 'spot': 3666, 'desk': 998, 'night': 2558, 'matt': 2322, 'emc': 1208, 'isnotbillingformatted': 1984, 'getproductpurchasename': 1578, 'overview': 2701, 'describe': 988, 'show': 3530, 'buckle': 492, 'difference': 1033, 'authorization': 281, 'dictionary': 1031, 'reason': 3160, 'spirit': 3662, 'trust': 4031, 'express': 1331, 'pleasure': 2865, 'light': 2188, 'stand': 3693, 'sometime': 3619, 'zombiecobra': 4469, 'coupon': 826, 'exhaust': 1309, 'pipe': 2838, 'leak': 2150, 'hot': 1789, 'membership': 2358, 'ben': 372, 'avoid': 297, 'decide': 948, 'ssh': 3680, 'column': 707, 'following': 1455, 'wepi': 4286, 'username': 4144, 'english': 1233, 'cancel': 543, 'thanx': 3896, 'additem': 47, 'var': 4170, 'getattribute': 1568, 'confuse': 760, 'concern': 745, 'mission': 2414, 'fight': 1405, 'fake': 1356, 'sign': 3546, 'xs': 4419, 'relationship': 3225, 'htc': 1800, 'dedicate': 953, 'big': 392, 'fan': 1361, 'eos': 1251, 'total': 3984, 'github': 1605, 'dismay': 1077, 'sound': 3637, 'pride': 2959, 'electronic': 1196, 'supplier': 3800, 'august': 271, 'frustration': 1507, 'enquiry': 1238, 'ch': 603, 'html': 1802, 'audio': 268, 'bathroom': 343, 'barb': 335, 'shame': 3492, 'bvqej': 515, 'watch': 4260, 'purcha': 3066, 'quote': 3117, 'sierra': 3544, 'leaf': 2148, 'fit': 1430, 'perfectly': 2790, 'project': 3018, 'deadline': 937, 'consider': 773, 'refresh': 3202, 'mycli': 2487, 'org': 2678, 'detailed': 1004, 'symphony': 3829, 'airwave': 99, 'air': 98, 'bbc': 351, 'newegg': 2544, 'marketplace': 2310, 'llc': 2215, 'portland': 2900, 'raffle': 3124, 'female': 1396, 'bunch': 501, 'water': 4262, 'netcore': 2533, 'cooperation': 799, 'summary': 3793, 'december': 946, 'icloud': 1824, 'expect': 1314, 'est': 1266, 'modified': 2436, 'discontinued': 1065, 'modify': 2437, 'recoverable': 3186, 'database': 918, 'flash': 1441, 'player': 2857, 'dealer': 939, 'prompt': 3024, 'icon': 1825, 'source': 3638, 'hp': 1796, 'chromebook': 638, 'successful': 3778, 'commit': 721, 'broken': 477, 'writing': 4361, 'curious': 870, 'shopping': 3523, 'manyheat': 2300, 'query': 3107, 'savage': 3389, 'stave': 3709, 'red': 3191, 'velvet': 4184, 'washingtonpost': 4258, 'politic': 2891, 'government': 1647, 'pack': 2709, 'filedetail': 1408, 'freedesktop': 1492, 'productname': 2999, 'cent': 588, 'spend': 3659, 'remainder': 3234, 'unsubscribe': 4116, 'opt': 2666, 'prepare': 2944, 'engineer': 1232, 'black': 409, 'connectivity': 768, 'usually': 4151, 'panic': 2726, 'mobile': 2425, 'android': 156, 'smart': 3598, 'cookie': 797, 'theless': 3909, 'fact': 1349, 'bad': 317, 'ikea': 1845, 'minor': 2407, 'restatement': 3297, 'guarantee': 1681, 'purchai': 3067, 'purchauge': 3075, 'goodmvc': 1637, 'rule': 3355, 'visual': 4219, 'pipework': 2840, 'blogs': 420, 'darl': 913, 'stanton': 3695, 'founder': 1478, 'editor': 1179, 'pocket': 2881, 'sized': 3571, 'book': 434, 'profile': 3013, 'zoe': 4467, 'ramos': 3129, 'sotvec': 3635, 'okay': 2640, 'grey': 1671, 'baby': 306, 'slime': 3591, 'submit': 3768, 'couch': 816, 'promise': 3020, 'food': 1458, 'costco': 814, 'accord': 15, 'spendy': 3660, 'schuster': 3415, 'interest': 1937, 'prod': 2983, 'necessary': 2523, 'laptop': 2132, 'usb': 4136, 'consumer': 780, 'coconut': 695, 'oil': 2638, 'whole': 4301, 'large': 2133, 'organic': 2679, 'supermarket': 3799, 'couple': 825, 'area': 212, 'guy': 1689, 'style': 3765, 'margin': 2305, 'simon': 3553, 'south': 3639, 'london': 2237, 'danielmcdaniel': 907, 'xsd': 4420, 'vastly': 4175, 'increase': 1881, 'difficulty': 1036, 'reporting': 3260, 'india': 1884, 'hownewsletter': 1795, 'unknown': 4101, 'npm': 2593, 'kip': 2102, 'shift': 3503, 'outcome': 2689, 'theshelter': 3919, 'litcoin': 2207, 'confidence': 751, 'aspiration': 237, 'perfect': 2789, 'pilot': 2833, 'nd': 2518, 'ghost': 1587, 'raiddean': 3125, 'yosemite': 4447, 'schedule': 3407, 'explain': 1324, 'complaint': 733, 'allegedly': 116, 'beat': 355, 'police': 2887, 'pune': 3064, 'cycle': 895, 'single': 3563, 'legally': 2158, 'deposit': 983, 'shipment': 3509, 'therefore': 3917, 'mscms': 2467, 'dll': 1095, 'driver': 1139, 'attribute': 265, 'recommendation': 3180, 'apt': 208, 'bricklot': 469, 'mongolia': 2448, 'equivalent': 1256, 'acquisition': 27, 'static': 3706, 'mess': 2368, 'progress': 3016, 'ability': 2, 'upload': 4126, 'photo': 2819, 'logout': 2235, 'thanks': 3894, 'eric': 1257, 'investigate': 1960, 'outpouring': 2693, 'eld': 1193, 'scroll': 3427, 'resource': 3286, 'suitable': 3789, 'booking': 435, 'provincial': 3044, 'rezvxgxmf': 3320, 'jim': 2028, 'collab': 701, 'bother': 446, 'oem': 2626, 'viral': 4211, 'lawyer': 2144, 'wifi': 4310, 'pulse': 3062, 'java': 2011, 'machine': 2266, 'vincent': 4203, 'fuyo': 1525, 'kind': 2098, 'bus': 505, 'binding': 397, 'dimensionalwarfare': 1043, 'steal': 3714, 'anon': 167, 'matter': 2324, 'skill': 3575, 'qtcoreunapi': 3101, 'wn': 4333, 'cn': 691, 'intentional': 1934, 'cloudflare': 682, 'mycologne': 2488, 'pr': 2926, 'settl': 3481, 'predator': 2931, 'puuuu': 3081, 'sh': 3490, 'aj': 100, 'team': 3865, 'inadvertently': 1868, 'neon': 2530, 'vitality': 4221, 'verm': 4193, 'volume': 4228, 'together': 3969, 'north': 2581, 'america': 145, 'nintendo': 2562, 'ds': 1144, 'xl': 4409, 'allotted': 120, 'location': 2225, 'almost': 122, 'appointment': 197, 'discovery': 1070, 'duty': 1154, 'anyone': 175, 'production': 2993, 'environment': 1250, 'miami': 2378, 'john': 2037, 'live': 2211, 'california': 535, 'major': 2277, 'celebrity': 587, 'bottom': 448, 'exchange': 1299, 'loud': 2248, 'inquiry': 1908, 'bottle': 447, 'whether': 4297, 'effort': 1186, 'prefetch': 2935, 'object': 2614, 'mac': 2264, 'osx': 2687, 'getproductinfo': 1576, 'manufacturerid': 2297, 'favourite': 1375, 'graft': 1651, 'debug': 943, 'fml': 1449, 'locate': 2224, 'mcmod': 2335, 'mike': 2392, 'row': 3349, 'countermark': 822, 'derek': 987, 'coatlassian': 694, 'clean': 666, 'corner': 806, 'finish': 1419, 'promisation': 3019, 'flavors': 1444, 'mango': 2290, 'shannon': 3495, 'pear': 2772, 'noodles': 2576, 'bananas': 328, 'dessert': 1000, 'byte': 518, 'digit': 1037, 'string': 3750, 'pass': 2743, 'output': 2694, 'mar': 2302, 'cluster': 684, 'close': 677, 'developer': 1011, 'vsl': 4235, 'bxc': 516, 'abroad': 5, 'parameter': 2732, 'annoy': 163, 'normally': 2580, 'brianna': 467, 'rva': 3362, 'systems': 3835, 'inc': 1871, 'senior': 3457, 'designer': 995, 'caitlin': 527, 'jelena': 2018, 'huffingtonpost': 1807, 'fistofcreeper': 1429, 'characteristic': 611, 'present': 2948, 'thenuil': 3914, 'pinterest': 2837, 'hash': 1717, 'hf': 1752, 'arrival': 223, 'short': 3525, 'term': 3880, 'low': 2250, 'middle': 2387, 'stick': 3724, 'youtu': 4450, 'bhxnfoluo': 389, 'assault': 240, 'theft': 3905, 'minimum': 2406, 'null': 2600, 'remedie': 3235, 'proper': 3028, 'license': 2182, 'whatever': 4292, 'vehicle': 4182, 'mathematization': 2321, 'anonymous': 168, 'caller': 537, 'startup': 3701, 'bag': 319, 'slightly': 3590, 'girl': 1601, 'girlfriend': 1602, 'figure': 1406, 'understanding': 4083, 'addition': 48, 'human': 1809, 'lsm': 2254, 'lg': 2174, 'adblocker': 44, 'word': 4338, 'hacker': 1696, 'dir': 1046, 'ltr': 2256, 'reasonable': 3161, 'chance': 606, 'beginning': 363, 'import': 1858, 'rest': 3295, 'quite': 3116, 'cydia': 896, 'isinstance': 1982, 'productmanager': 2998, 'producer': 2985, 'ifdef': 1837, 'con': 744, 'image': 1849, 'trusted': 4032, 'enrol': 1239, 'staff': 3689, 'productkey': 2996, 'family': 1360, 'investigation': 1961, 'colour': 705, 'brown': 479, 'matte': 2323, 'faq': 1363, 'copyright': 803, 'commercial': 720, 'attribution': 266, 'statement': 3704, 'past': 2747, 'priority': 2968, 'alert': 109, 'remedy': 3236, 'ethernet': 1273, 'fa': 1343, 'foo': 1457, 'technical': 3867, 'instance': 1919, 'permission': 2797, 'board': 427, 'greatly': 1665, 'donate': 1112, 'cafe': 524, 'crave': 842, 'diagram': 1024, 'heart': 1736, 'warning': 4254, 'xb': 4373, 'ad': 38, 'xx': 4424, 'entirety': 1245, 'represent': 3262, 'constitute': 778, 'representative': 3263, 'combine': 711, 'bugfix': 497, 'tab': 3836, 'basket': 341, 'tomb': 3975, 'raider': 3126, 'pull': 3061, 'att': 256, 'interview': 1949, 'listen': 2204, 'podcast': 2882, 'discuss': 1072, 'limitation': 2193, 'basis': 340, 'remy': 3244, 'txt': 4055, 'fee': 1389, 'march': 2304, 'fuser': 1523, 'awesome': 300, 'vpn': 4233, 'manually': 2294, 'toy': 3994, 'urgency': 4130, 'clarification': 660, 'reddit': 3192, 'dialog': 1026, 'buynow': 513, 'onclick': 2647, 'buyprice': 514, 'bundle': 502, 'userdata': 4143, 'nova': 2590, 'terminal': 3881, 'rate': 3137, 'content': 785, 'toggle': 3970, 'individual': 1887, 'heading': 1729, 'cdt': 586, 'akshay': 104, 'mistry': 2417, 'york': 4445, 'aka': 103, 'title': 3959, 'distributor': 1089, 'serial': 3467, 'bonus': 433, 'hearthstone': 1737, 'hero': 1748, 'internationally': 1946, 'discrepancy': 1071, 'behind': 367, 'hassle': 1718, 'flickering': 1446, 'involve': 1964, 'clearly': 669, 'indicate': 1885, 'office': 2629, 'worker': 4342, 'la': 2120, 'headache': 1726, 'iphone': 1971, 'summer': 3794, 'especially': 1264, 'plate': 2853, 'metal': 2373, 'bracket': 457, 'removal': 3242, 'boot': 439, 'yandex': 4432, 'sdk': 3430, 'hover': 1793, 'nexusmod': 2549, 'skyrim': 3579, 'mod': 2427, 'gets': 1579, 'satisfaction': 3384, 'ifferentium': 1838, 'finally': 1412, 'debut': 944, 'hmm': 1771, 'themn': 3911, 'href': 1798, 'hobbystrap': 1772, 'categoryname': 573, 'related': 3223, 'vote': 4229, 'lan': 2126, 'bind': 396, 'amethystcoin': 147, 'fbe': 1377, 'tracking': 3998, 'array': 221, 'range': 3133, 'drainage': 1132, 'accuse': 19, 'fire': 1420, 'hammer': 1703, 'voucher': 4230, 'instant': 1920, 'wine': 4317, 'cite': 652, 'helpful': 1744, 'excellent': 1294, 'husband': 1816, 'patient': 2754, 'arise': 217, 'battleground': 346, 'nicobike': 2555, 'etc': 1270, 'pro': 2972, 'professional': 3011, 'sop': 3629, 'morning': 2453, 'kickstarter': 2095, 'super': 3798, 'solar': 3610, 'force': 1462, 'pain': 2717, 'arse': 226, 'migafilmedic': 2388, 'care': 553, 'dispute': 1080, 'reviewer': 3313, 'ipod': 1972, 'atom': 255, 'mp': 2463, 'yay': 4434, 'regular': 3214, 'sacrifice': 3366, 'harrym': 1716, 'april': 207, 'irresponsible': 1980, 'rather': 3138, 'alter': 132, 'skype': 3578, 'sk': 3574, 'unfortunately': 4090, 'naturallian': 2509, 'spread': 3668, 'subject': 3767, 'plan': 2850, 'josh': 2044, 'jared': 2008, 'steve': 3723, 'mygolf': 2492, 'timothy': 3951, 'promo': 3021, 'subsequent': 3773, 'profit': 3014, 'cheap': 619, 'proof': 3026, 'numerous': 2603, 'occasion': 2620, 'fellow': 1395, 'fpler': 1481, 'rssfeed': 3353, 'aeg': 77, 'tac': 3840, 'manufacture': 2295, 'closed': 678, 'ahead': 95, 'msg': 2469, 'zoom': 4471, 'achieve': 23, 'stay': 3710, 'maintain': 2275, 'heck': 1740, 'availability': 291, 'unlocked': 4105, 'steampowere': 3717, 'promotion': 3022, 'promotional': 3023, 'refundable': 3204, 'applicable': 194, 'ebay': 1168, 'nc': 2517, 'eligible': 1198, 'inaccurate': 1866, 'faulty': 1371, 'tue': 4037, 'feb': 1386, 'cet': 596, 'purchasable': 3068, 'cartitemstocart': 563, 'cre': 844, 'management': 2288, 'uninstall': 4094, 'inquire': 1907, 'imac': 1848, 'blog': 419, 'dangerous': 905, 'discard': 1058, 'lethally': 2170, 'vbulletin': 4177, 'solutions': 3614, 'reserve': 3276, 'steampowered': 3718, 'financially': 1415, 'american': 146, 'settimeout': 3479, 'regional': 3211, 'actual': 36, 'pam': 2722, 'bensound': 376, 'hell': 1742, 'broadcaster': 476, 'wkbnb': 4331, 'gggg': 1584, 'purchasing': 3074, 'alexa': 111, 'fulfillment': 1510, 'patience': 2753, 'logistic': 2233, 'benefit': 374, 'devolve': 1015, 'kid': 2096, 'authenticator': 278, 'discontinue': 1064, 'various': 4172, 'region': 3210, 'dozen': 1127, 'jar': 2007, 'fall': 1357, 'def': 954, 'init': 1900, 'self': 3449, 'peelpane': 2776, 'ian': 1823, 'cheong': 625, 'qualify': 3102, 'annual': 166, 'xxl': 4425, 'xlsl': 4410, 'missing': 2413, 'merchant': 2364, 'functionality': 1517, 'optional': 2670, 'font': 1456, 'youtube': 4451, 'jul': 2061, 'hodysg': 1775, 'compare': 728, 'resident': 3281, 'ref': 3197, 'productman': 2997, 'ipv': 1975, 'usa': 4135, 'exception': 1296, 'regardless': 3209, 'redirect': 3195, 'installation': 1916, 'src': 3675, 'scope': 3418, 'block': 415, 'typo': 4060, 'assure': 251, 'trevor': 4014, 'vivian': 4223, 'lance': 2127, 'officer': 2630, 'plain': 2849, 'lazy': 2146, 'stupidity': 3763, 'pink': 2836, 'gaming': 1539, 'qyfmvxjys': 3119, 'pic': 2826, 'xwfgdngvgw': 4423, 'chromecast': 639, 'head': 1725, 'downstairs': 1125, 'taxis': 3860, 'export': 1330, 'unless': 4102, 'openssl': 2660, 'ssl': 3681, 'certificate': 594, 'reconnect': 3181, 'joeyclay': 2036, 'sender': 3456, 'hackerteam': 1698, 'pico': 2828, 'compatible': 729, 'combination': 710, 'wide': 4305, 'fault': 1370, 'legal': 2157, 'identify': 1832, 'nexus': 2548, 'permanent': 2796, 'vape': 4168, 'baltique': 325, 'seal': 3432, 'learn': 2152, 'dan': 902, 'acheson': 22, 'acharson': 21, 'param': 2731, 'psql': 3051, 'mysql': 2497, 'actively': 34, 'easy': 1166, 'shortly': 3527, 'transit': 4007, 'issuer': 1988, 'enterprise': 1242, 'signify': 3548, 'potential': 2910, 'inappropriate': 1869, 'serve': 3472, 'joke': 2041, 'opinion': 2664, 'mcc': 2330, 'equal': 1253, 'struggle': 3758, 'wanna': 4250, 'throne': 3937, 'gameofthrone': 1535, 'october': 2623, 'europe': 1276, 'belgium': 368, 'disc': 1057, 'lizzie': 2213, 'imgur': 1851, 'switch': 3825, 'gert': 1566, 'lizziekrkk': 2214, 'frag': 1483, 'digital': 1038, 'prize': 2971, 'except': 1295, 'alternate': 134, 'dia': 1022, 'jpg': 2049, 'cmerga': 688, 'cross': 858, 'implementation': 1857, 'ssp': 3682, 'eharmony': 1188, 'strongly': 3754, 'obama': 2612, 'administration': 57, 'ppc': 2922, 'library': 2180, 'functional': 1516, 'hand': 1704, 'addon': 51, 'grade': 1650, 'karp': 2074, 'markkarp': 2311, 'gavin': 1547, 'andresen': 154, 'financial': 1414, 'familiar': 1359, 'bert': 377, 'folder': 1452, 'warehouse': 4252, 'genius': 1560, 'hurt': 1815, 'truth': 4033, 'darkduckdog': 910, 'job': 2032, 'node': 2566, 'vsphere': 4236, 'wireless': 4321, 'packagingid': 2712, 'integrate': 1929, 'upcoming': 4122, 'webmaster': 4270, 'webster': 4274, 'spencer': 3658, 'smith': 3602, 'katherine': 2076, 'lee': 2155, 'jason': 2010, 'adobe': 61, 'premiere': 2940, 'program': 3015, 'backordere': 314, 'period': 2793, 'dmr': 1096, 'sellouti': 3454, 'exceritie': 1298, 'entity': 1246, 'authorize': 282, 'modem': 2432, 'insurance': 1924, 'dealership': 940, 'partner': 2741, 'defective': 957, 'tampa': 3851, 'fl': 1438, 'toll': 3973, 'entry': 1248, 'scenario': 3404, 'funny': 1519, 'vector': 4180, 'pbe': 2766, 'xdfacca': 4386, 'verbose': 4189, 'idle': 1834, 'cad': 523, 'manage': 2287, 'identity': 1833, 'courtesy': 830, 'hereby': 1746, 'reader': 3149, 'publication': 3057, 'remotely': 3241, 'involvement': 1965, 'gist': 1603, 'bbaacedfdcd': 350, 'favorite': 1374, 'creative': 848, 'fork': 1469, 'mozilla': 2462, 'reflect': 3200, 'toward': 3992, 'couldciation': 818, 'downgrade': 1123, 'beneath': 373, 'thehacker': 3907, 'hey': 1750, 'thegamer': 3906, 'ret': 3304, 'boolean': 438, 'pw': 3082, 'mt': 2472, 'olive': 2644, 'green': 1666, 'element': 1197, 'htmldatahelper': 1803, 'half': 1702, 'chillo': 628, 'confusion': 763, 'irc': 1976, 'channel': 608, 'px': 3086, 'cri': 852, 'development': 1013, 'myflavor': 2491, 'gizmodo': 1611, 'nsx': 2597, 'err': 1260, 'sense': 3458, 'nearly': 2521, 'james': 2001, 'kyle': 2119, 'knight': 2111, 'cms': 690, 'adam': 39, 'clarify': 661, 'stacktrace': 3688, 'potion': 2912, 'pined': 2835, 'mushroom': 2478, 'ps': 3047, 'vita': 4220, 'gouz': 1645, 'bitcoin': 403, 'furniture': 1521, 'gnome': 1629, 'addressing': 53, 'materia': 2318, 'depend': 982, 'capability': 549, 'procedure': 2977, 'reward': 3316, 'guideline': 1685, 'advisable': 74, 'stdio': 3713, 'print': 2963, 'generate': 1557, 'logfile': 2229, 'oxcel': 2705, 'claim': 659, 'testing': 3889, 'batch': 342, 'medical': 2350, 'eye': 1341, 'monitor': 2449, 'myverifiedcompany': 2500, 'mycompany': 2489, 'critical': 857, 'tacastyle': 3841, 'virgin': 4212, 'tale': 3849, 'restock': 3299, 'redeem': 3193, 'record': 3183, 'imsc': 1865, 'ms': 2466, 'gear': 1551, 'missionasty': 2415, 'trademark': 4000, 'originally': 2683, 'friday': 1498, 'opportunity': 2665, 'orfar': 2677, 'exceed': 1293, 'mrs': 2465, 'clark': 662, 'dacb': 898, 'onto': 2655, 'insure': 1925, 'timely': 3950, 'manner': 2292, 'rid': 3324, 'mainstream': 2274, 'firewall': 1422, 'shopowner': 3521, 'recognize': 3177, 'dr': 1129, 'seemingly': 3444, 'impressed': 1861, 'design': 993, 'definitely': 960, 'getelementbyid': 1571, 'length': 2165, 'xbox': 4376, 'reinstall': 3220, 'honest': 1781, 'fishery': 1428, 'conjunction': 764, 'amd': 144, 'radeon': 3122, 'tow': 3991, 'trunk': 4030, 'sm': 3596, 'buying': 512, 'baconchicken': 316, 'consideration': 774, 'lumia': 2260, 'bank': 332, 'incoming': 1875, 'upfront': 4124, 'fedex': 1388, 'xcode': 4379, 'tait': 3845, 'wallet': 4247, 'beautiful': 356, 'accessory': 11, 'tech': 3866, 'fulfil': 1509, 'thatproxysize': 3898, 'proxy': 3045, 'qrsplen': 3099, 'proceed': 2978, 'qr': 3098, 'push': 3079, 'recipeloader': 3172, 'forge': 1465, 'loading': 2221, 'recipe': 3171, 'loader': 2220, 'curseforge': 876, 'isolated': 1986, 'gp': 1648, 'bjqhglw': 407, 'psc': 3048, 'brick': 468, 'ghlf': 1586, 'eeb': 1182, 'ffdbb': 1400, 'dropbox': 1142, 'separately': 3465, 'estimate': 1268, 'trucular': 4026, 'attacker': 260, 'battle': 345, 'dragon': 1131, 'worry': 4352, 'ubuntu': 4062, 'lt': 2255, 'forgott': 1468, 'avinforgott': 296, 'xlsmoderator': 4411, 'scheduler': 3409, 'herein': 1747, 'newsletter': 2546, 'cleaning': 667, 'piece': 2830, 'glass': 1617, 'cut': 888, 'newbie': 2542, 'messy': 2370, 'eq': 1252, 'administrator': 58, 'wish': 4323, 'unimportant': 4093, 'unverifiable': 4119, 'rework': 3317, 'extremely': 1340, 'chef': 623, 'faqs': 1364, 'elderly': 1194, 'mother': 2454, 'four': 1480, 'seattle': 3434, 'reside': 3279, 'ohio': 2635, 'parentnode': 2735, 'sinead': 3561, 'connor': 770, 'sineadod': 3562, 'taylor': 3861, 'outline': 2692, 'paw': 2761, 'contactme': 782, 'mojang': 2440, 'pre': 2928, 'statute': 3708, 'requirement': 3272, 'general': 1555, 'stat': 3702, 'tomorrow': 3977, 'nj': 2564, 'hackerdorks': 1697, 'hackerware': 1699, 'customerservice': 881, 'joe': 2035, 'baker': 321, 'repeat': 3253, 'terrible': 3882, 'frame': 1485, 'subsidized': 3775, 'protection': 3036, 'weston': 4290, 'mec': 2343, 'mobilegrouper': 2426, 'firstly': 1425, 'differ': 1032, 'vox': 4231, 'white': 4298, 'everyday': 1284, 'ipad': 1970, 'citation': 651, 'mixed': 2420, 'alright': 128, 'balance': 322, 'japan': 2004, 'approval': 203, 'observa': 2616, 'hide': 1754, 'integer': 1928, 'confused': 761, 'xd': 4380, 'printer': 2964, 'grankirby': 1656, 'blob': 414, 'master': 2315, 'verification': 4191, 'agreement': 93, 'mechemeche': 2346, 'solutionestead': 3613, 'pl': 2846, 'daniel': 906, 'graphic': 1659, 'moderate': 2433, 'estimated': 1269, 'arial': 216, 'sintra': 3564, 'courier': 827, 'nav': 2512, 'navbar': 2513, 'footer': 1460, 'img': 1850, 'cdn': 584, 'reckon': 3174, 'clydesdatter': 685, 'telegram': 3874, 'limited': 2194, 'warn': 4253, 'fla': 1439, 'ann': 159, 'jf': 2027, 'poor': 2893, 'employee': 1215, 'thoroughly': 3930, 'runtime': 3358, 'shiver': 3513, 'fitting': 1434, 'sufficient': 3783, 'context': 786, 'remember': 3237, 'bot': 445, 'izzy': 1999, 'iglvzx': 1840, 'affected': 81, 'tkpanel': 3961, 'fetch': 1397, 'arduino': 211, 'wednesday': 4275, 'vary': 4173, 'สสท': 4474, 'ลาาง': 4473, 'คมท': 4472, 'ange': 157, 'execute': 1308, 'alongside': 125, 'japanese': 2005, 'yen': 4438, 'easily': 1162, 'customizing': 887, 'advanced': 66, 'xrzep': 4418, 'finance': 1413, 'parent': 2734, 'child': 627, 'spouse': 3667, 'wife': 4309, 'xda': 4381, 'janimo': 2002, 'override': 2698, 'oncreatemobileuser': 2648, 'int': 1927, 'insert': 1910, 'nigeria': 2557, 'million': 2397, 'installer': 1918, 'commerce': 719, 'assign': 242, 'subscriber': 3771, 'adb': 42, 'sideloading': 3543, 'caption': 550, 'proclaim': 2982, 'forever': 1464, 'effective': 1185, 'dead': 936, 'lack': 2123, 'nmms': 2565, 'msm': 2470, 'dotable': 1120, 'sbc': 3394, 'carmichael': 557, 'miller': 2396, 'carmichaelmilberg': 558, 'dark': 909, 'instruct': 1922, 'wikipedia': 4312, 'wiki': 4311, 'revert': 3311, 'spec': 3647, 'exclusive': 1304, 'legitimate': 2163, 'approve': 204, 'bpa': 454, 'trash': 4010, 'glove': 1622, 'lion': 2200, 'marker': 2307, 'greeting': 1668, 'ineradicable': 1889, 'servant': 3471, 'witcher': 4325, 'esp': 1263, 'informed': 1896, 'discussion': 1073, 'welcome': 4282, 'reauthorise': 3162, 'convert': 793, 'png': 2877, 'oct': 2622, 'budget': 495, 'keyring': 2088, 'suppresswarning': 3804, 'score': 3419, 'redesign': 3194, 'cajal': 528, 'logo': 2234, 'gateway': 1544, 'tuesday': 4038, 'eastern': 1165, 'srs': 3677, 'edition': 1178, 'conquest': 771, 'thenewworldorderarchive': 3913, 'patreon': 2755, 'warrant': 4255, 'davidwong': 926, 'sullivan': 3790, 'mikeo': 2393, 'january': 2003, 'tweet': 4048, 'shane': 3494, 'blocker': 417, 'useful': 4140, 'particular': 2740, 'accessible': 10, 'usrp': 4149, 'spam': 3643, 'discoverablevista': 1069, 'processing': 2980, 'photoshop': 2821, 'libav': 2179, 'decode': 951, 'header': 1728, 'rehabene': 3217, 'relevant': 3229, 'hair': 1700, 'professionally': 3012, 'hairpiece': 1701, 'tedious': 3871, 'expire': 1322, 'scheduled': 3408, 'violent': 4208, 'productpurchase': 3003, 'vllo': 4224, 'sizing': 3572, 'presto': 2951, 'cdnj': 585, 'ajax': 102, 'libs': 2181, 'js': 2054, 'zombii': 4470, 'pleasantly': 2859, 'creator': 849, 'accident': 12, 'emily': 1210, 'apparently': 187, 'squarespace': 3672, 'anyway': 177, 'ceo': 591, 'stringproperty': 3752, 'cfce': 598, 'campaign': 540, 'onalt': 2645, 'explorer': 1328, 'reboot': 3164, 'navy': 2516, 'drink': 1137, 'rename': 3245, 'normal': 2579, 'preordere': 2942, 'preferably': 2934, 'social': 3607, 'medium': 2352, 'chain': 604, 'distribution': 1088, 'often': 2634, 'min': 2399, 'overwrite': 2702, 'twice': 4050, 'compromise': 741, 'final': 1411, 'public': 3056, 'inputpaste': 1906, 'inputhash': 1905, 'strconv': 3744, 'strdupy': 3745, 'market': 2308, 'intend': 1932, 'mjorderson': 2421, 'comcastdallas': 713, 'lemus': 2164, 'bryan': 482, 'department': 981, 'equipment': 1254, 'authorized': 283, 'reseller': 3275, 'cavell': 578, 'tocavell': 3966, 'exclusivity': 1306, 'side': 3541, 'paste': 2748, 'meaningful': 2339, 'lib': 2178, 'santa': 3380, 'buck': 491, 'shape': 3496, 'hat': 1719, 'ongoing': 2650, 'tour': 3990, 'dress': 1136, 'lady': 2124, 'suit': 3788, 'classic': 664, 'xddb': 4383, 'xddbd': 4384, 'xddef': 4385, 'haveylvan': 1722, 'pixc': 2843, 'sake': 3370, 'mentor': 2361, 'student': 3760, 'lead': 2147, 'explicitly': 1326, 'insurer': 1926, 'obvious': 2619, 'inventoryservice': 1958, 'brigot': 472, 'russia': 3360, 'bailoschko': 320, 'audition': 269, 'goo': 1635, 'gl': 1613, 'qfndzq': 3094, 'seriousness': 3470, 'cf': 597, 'bfc': 386, 'prepay': 2945, 'prepaid': 2943, 'fprintf': 1482, 'lag': 2125, 'unicode': 4092, 'ccc': 582, 'refuse': 3206, 'itune': 1995, 'queen': 3106, 'hill': 1760, 'sq': 3669, 'ft': 1508, 'onreceive': 2653, 'psegable': 3049, 'throw': 3938, 'illegalargumentexception': 1846, 'nascha': 2505, 'advertisement': 71, 'embassy': 1205, 'islamabad': 1983, 'performance': 2792, 'phase': 2816, 'eliminate': 1199, 'cpw': 835, 'relauncher': 3226, 'coremodmanager': 805, 'desirable': 996, 'automatic': 287, 'apprehend': 200, 'reimburse': 3219, 'sony': 3625, 'buddychase': 494, 'wakk': 4245, 'recyclary': 3190, 'git': 1604, 'index': 1883, 'pbs': 2767, 'twimg': 4051, 'cjgm': 657, 'straight': 3738, 'yeproflip': 4439, 'gasp': 1543, 'hjwjhbaix': 1768, 'tolkien': 3972, 'jrroger': 2053, 'volta': 4227, 'unsolicited': 4113, 'alleviate': 118, 'safely': 3368, 'intptr': 1950, 'necessarily': 2522, 'penguinadi': 2781, 'double': 1121, 'policymachine': 2889, 'seo': 3462, 'optimizer': 2668, 'turbine': 4039, 'culprit': 867, 'publish': 3058, 'powerpunch': 2919, 'sunday': 3796, 'experienced': 1317, 'initial': 1901, 'shampoo': 3493, 'waste': 4259, 'inv': 1955, 'realize': 3158, 'bos': 442, 'hungry': 1812, 'dmv': 1097, 'nimbus': 2561, 'specification': 3651, 'towards': 3993, 'slashing': 3582, 'cutter': 891, 'scei': 3403, 'tiptoe': 3956, 'sneak': 3605, 'peek': 2775, 'highly': 1758, 'anybody': 173, 'firefox': 1421, 'obiomoto': 2613, 'droid': 1140, 'intel': 1931, 'skydragon': 3577, 'letter': 2171, 'keyboard': 2086, 'sgtllk': 3489, 'origin': 2681, 'telephone': 3875, 'beer': 361, 'shirt': 3511, 'foray': 1461, 'vinegar': 4205, 'armor': 218, 'legendary': 2159, 'warrior': 4257, 'wear': 4266, 'kindly': 2099, 'champagewide': 605, 'lorem': 2242, 'ipsum': 1974, 'brazil': 460, 'alarm': 106, 'weird': 4281, 'validate': 4161, 'webapalotool': 4268, 'userssnl': 4145, 'xaml': 4369, 'xen': 4396, 'forgot': 1467, 'nasty': 2506, 'mmm': 2424, 'ave': 294, 'tarr': 3855, 'iuka': 1996, 'instead': 1921, 'distraction': 1085, 'chris': 635, 'university': 4100, 'mybrowsing': 2486, 'productsearch': 3006, 'risk': 3330, 'kgggyxzc': 2093, 'religion': 3231, 'newanarchy': 2541, 'develop': 1010, 'randy': 3132, 'jrk': 2052, 'shutterbridge': 3535, 'withdraw': 4326, 'thoseza': 3931, 'orderora': 2674, 'pfnjv': 2810, 'bambino': 326, 'juanjlohan': 2060, 'thejuanjlohan': 3908, 'five': 1435, 'remind': 3238, 'residence': 3280, 'donald': 1111, 'trump': 4029, 'realdonaldtrump': 3156, 'danaparkin': 903, 'convenience': 791, 'tandf': 3852, 'galaxy': 1530, 'paparmy': 2729, 'edu': 1180, 'mm': 2423, 'kevin': 2084, 'announce': 161, 'grant': 1657, 'toobject': 3979, 'lunch': 2261, 'treat': 4012, 'visible': 4215, 'temporary': 3879, 'operation': 2662, 'lucky': 2258, 'placeholder': 2848, 'agent': 89, 'pdf': 2770, 'translation': 4008, 'blockquote': 418, 'btn': 488, 'primary': 2961, 'alt': 131, 'wall': 4246, 'street': 3747, 'journal': 2047, 'produce': 2984, 'kitty': 2107, 'vcsf': 4179, 'pleaserobot': 2863, 'wizard': 4330, 'feasible': 1383, 'openpeer': 2659, 'circumstance': 648, 'prescribe': 2946, 'nsl': 2596, 'piaac': 2825, 'cute': 889, 'host': 1788, 'meeting': 2354, 'fwy': 1527, 'se': 3431, 'west': 4288, 'ne': 2519, 'laserprint': 2135, 'asus': 252, 'calculation': 531, 'productdata': 2987, 'exclude': 1301, 'jew': 2025, 'plaster': 2851, 'dexexc': 1017, 'fresh': 1497, 'ht': 1799, 'minecraft': 2403, 'impact': 1855, 'growwithyourgrasp': 1678, 'raw': 3142, 'city': 654, 'plenty': 2867, 'november': 2591, 'xe': 4389, 'piruo': 2841, 'csp': 863, 'xed': 4394, 'alia': 113, 'hunt': 1813, 'icr': 1826, 'myemail': 2490, 'utf': 4154, 'frozen': 1503, 'coffee': 698, 'seven': 3484, 'flavor': 1443, 'rewrite': 3318, 'iostream': 1968, 'emit': 1211, 'meanwhile': 2342, 'usual': 4150, 'folk': 1453, 'queue': 3110, 'catch': 571, 'ls': 2253, 'satisfied': 3385, 'mistake': 2416, 'publisher': 3059, 'dirk': 1052, 'oehler': 2625, 'ajarm': 101, 'forums': 1474, 'negative': 2527, 'themethayout': 3910, 'boutiquee': 452, 'democrat': 976, 'michaelsmith': 2382, 'rush': 3359, 'positive': 2902, 'gmane': 1626, 'cigarette': 646, 'authentication': 277, 'module': 2438, 'deity': 965, 'anxiety': 172, 'pgs': 2812, 'fur': 1520, 'confidential': 752, 'advertise': 69, 'wix': 4329, 'rise': 3329, 'qq': 3097, 'brightness': 471, 'hachet': 1694, 'generally': 1556, 'strong': 3753, 'jerk': 2022, 'chmod': 631, 'manufacturing': 2298, 'nginx': 2552, 'uname': 4071, 'jell': 2019, 'donnit': 1115, 'soviet': 3641, 'sylvanian': 3827, 'yeah': 4435, 'dunno': 1150, 'truly': 4028, 'noggin': 2567, 'alone': 123, 'casebycase': 566, 'loyal': 2252, 'htm': 1801, 'apk': 183, 'jsp': 2056, 'prov': 3040, 'jt': 2058, 'vasch': 4174, 'correspond': 810, 'road': 3333, 'thatoslav': 3897, 'mouse': 2459, 'squeek': 3673, 'sticker': 3725, 'unsure': 4117, 'cid': 644, 'getproductpurchasecode': 1577, 'getprice': 1573, 'individualized': 1888, 'productupgrade': 3009, 'exclusively': 1305, 'storage': 3732, 'char': 609, 'ffcaee': 1399, 'jeff': 2017, 'backer': 310, 'adjustment': 55, 'receiving': 3168, 'gw': 1691, 'xff': 4401, 'tm': 3962, 'mfg': 2375, 'rabbitmarket': 3120, 'foundry': 1479, 'mikesaurio': 2395, 'chimera': 629, 'dive': 1092, 'ya': 4428, 'disability': 1053, 'lit': 2206, 'attorney': 264, 'revise': 3314, 'michaelb': 2380, 'paranormal': 2733, 'sniper': 3606, 'guru': 1686, 'unstuck': 4115, 'btw': 489, 'bounty': 449, 'pound': 2915, 'gram': 1653, 'delay': 966, 'tos': 3983, 'theunz': 3922, 'ejection': 1192, 'proposal': 3032, 'stage': 3690, 'marshal': 2313, 'maverick': 2325, 'memory': 2359, 'kick': 2094, 'blame': 411, 'havenius': 1721, 'gambler': 1532, 'shoutcraft': 3529, 'nand': 2503, 'boutao': 451, 'retrospect': 3308, 'diligence': 1040, 'cinelab': 647, 'gmt': 1628, 'inventorytweak': 1959, 'lulu': 2259, 'precise': 2930, 'selection': 3448, 'door': 1116, 'hesitate': 1749, 'misuse': 2418, 'stagg': 3691, 'alpus': 126, 'container': 784, 'shiftinggear': 3504, 'dv': 1155, 'reika': 3218, 'wehr': 4279, 'nether': 2535, 'enderio': 1225, 'hd': 1724, 'gddr': 1550, 'apu': 209, 'acquire': 26, 'slot': 3593, 'juan': 2059, 'mall': 2283, 'plum': 2873, 'felise': 1394, 'gladly': 1615, 'sellername': 3453, 'scott': 3420, 'mccaffrey': 2331, 'scottmcaffrey': 3421, 'dhl': 1021, 'tip': 3955, 'maine': 2273, 'healthtoy': 1734, 'healtht': 1733, 'ciao': 643, 'dong': 1114, 'weekly': 4278, 'doubt': 1122, 'alteration': 133, 'favor': 1373, 'ipstat': 1973, 'appreciated': 199, 'inbox': 1870, 'lily': 2191, 'expert': 1319, 'expertise': 1320, 'socket': 3608, 'vupx': 4239, 'material': 2319, 'automation': 289, 'loan': 2222, 'repayment': 3252, 'cogymag': 699, 'fas': 1367, 'jewelrycraft': 2026, 'stability': 3684, 'optimization': 2667, 'percentage': 2788, 'extend': 1332, 'aluminum': 138, 'cd': 583, 'fitch': 1431, 'average': 295, 'ea': 1157, 'sculpting': 3429, 'upon': 4127, 'trial': 4015, 'vxm': 4241, 'firstocate': 1427, 'mah': 2269, 'ticket': 3942, 'tube': 4036, 'responsive': 3294, 'psn': 3050, 'randi': 3131, 'harper': 1714, 'networking': 2537, 'improvement': 1864, 'args': 214, 'productdescription': 2988, 'testcreate': 3887, 'testcode': 3886, 'testexception': 3888, 'sarah': 3382, 'butt': 508, 'catalog': 570, 'xavi': 4371, 'announcement': 162, 'revive': 3315, 'history': 1766, 'carnivorous': 559, 'grenadine': 1669, 'grizzly': 1672, 'kelica': 2080, 'joshuota': 2046, 'eid': 1189, 'sr': 3674, 'tinybox': 3954, 'offline': 2632, 'activity': 35, 'merit': 2366, 'gustiam': 1688, 'legendaryactivity': 2160, 'scratch': 3422, 'addto': 54, 'hit': 1767, 'misleading': 2411, 'ai': 96, 'dino': 1044, 'dnb': 1098, 'foremost': 1463, 'vikie': 4202, 'vike': 4201, 'legislature': 2161, 'nightmare': 2559, 'spell': 3657, 'intent': 1933, 'unreal': 4108, 'istock': 1989, 'yarn': 4433, 'slug': 3595, 'tap': 3853, 'vulnerable': 4238, 'fcd': 1379, 'ff': 1398, 'ffffd': 1401, 'structured': 3757, 'body': 429, 'outdated': 2690, 'agy': 94, 'gm': 1624, 'dial': 1025, 'pokemon': 2886, 'generic': 1559, 'ban': 327, 'tracker': 3997, 'prosecco': 3033, 'qmc': 3096, 'sarge': 3383, 'advertised': 70, 'gender': 1554, 'headband': 1727, 'band': 329, 'dockerfile': 1103, 'sonic': 3624, 'guzon': 1690, 'ganbeludo': 1540, 'ghetsys': 1585, 'bunker': 503, 'auxiliary': 290, 'shoot': 3518, 'mount': 2457, 'footage': 1459, 'unusable': 4118, 'macos': 2268, 'dota': 1119, 'trim': 4019, 'roothare': 3344, 'ignore': 1841, 'tasco': 3856, 'subreddit': 3769, 'johr': 2039, 'reconnecte': 3182, 'motorcyclesport': 2456, 'detachment': 1002, 'internal': 1944, 'widget': 4307, 'touhoumon': 3989, 'touhoubon': 3988, 'framework': 1486, 'traffic': 4003, 'kit': 2105, 'eth': 1271, 'getproduct': 1574, 'global': 1619, 'fitnesscouch': 1432, 'analytic': 151, 'gemini': 1552, 'gallon': 1531, 'near': 2520, 'surprise': 3808, 'dropdown': 1143, 'wellerva': 4284, 'elsewhere': 1201, 'ietf': 1835, 'xebb': 4392, 'fiz': 1437, 'bump': 500, 'uncle': 4076, 'bourbon': 450, 'fun': 1514, 'taboola': 3839, 'deny': 980, 'bethn': 380, 'jstor': 2057, 'asset': 241, 'whatsoever': 4294, 'ssa': 3679, 'smartphone': 3599, 'pacific': 2708, 'pen': 2777, 'advent': 68, 'catholic': 574, 'encyclopedia': 1223, 'church': 642, 'father': 1369, 'summa': 3792, 'disk': 1076, 'kowalz': 2117, 'spigot': 3661, 'watchdog': 4261, 'freenode': 1494, 'requestlist': 3269, 'validity': 4162, 'holder': 1777, 'eight': 1190, 'virustotal': 4214, 'kfc': 2091, 'blessing': 412, 'disguise': 1074, 'narrow': 2504, 'demo': 974, 'py': 3088, 'pyd': 3089, 'shoeshop': 3516, 'museum': 2477, 'civilization': 655, 'painting': 2720, 'westerner': 4289, 'tribute': 4016, 'essential': 1265, 'smoothly': 3603, 'ton': 3978, 'acknowledgement': 24, 'disclosure': 1060, 'webpage': 4271, 'roldsman': 3338, 'xh': 4403, 'makersystem': 2279, 'lfgntqkv': 2173, 'directory': 1051, 'kryczak': 2118, 'evolve': 1287, 'conduct': 749, 'durability': 1152, 'xeabdb': 4390, 'plastic': 2852, 'sturdy': 3764, 'xefacfbfecb': 4395, 'xebee': 4393, 'descriptive': 991, 'myapp': 2485, 'pest': 2805, 'gauge': 1546, 'rshul': 3351, 'shigu': 3505, 'allocate': 119, 'studio': 3761, 'storify': 3735, 'segment': 3445, 'worldbuilder': 4347, 'worldbuilde': 4346, 'robertson': 3335, 'finger': 1418, 'star': 3696, 'intrinsic': 1951, 'authenticate': 276, 'maximum': 2326, 'lower': 2251, 'inactive': 1867, 'thebiggerthanjtea': 3900, 'ass': 239, 'totem': 3985, 'tetris': 3890, 'tobacco': 3964, 'cuff': 866, 'gopro': 1641, 'speaking': 3646, 'isolate': 1985, 'arab': 210, 'productp': 3000, 'xps': 4417, 'calendar': 533, 'shorten': 3526, 'lanja': 2131, 'sleaf': 3583, 'grass': 1661, 'faire': 1354, 'aaron': 0, 'arth': 228, 'bdalts': 352, 'bfaldorf': 384, 'promptly': 3025, 'drawer': 1133, 'rex': 3319, 'paint': 2719, 'pile': 2831, 'wood': 4337, 'peta': 2807, 'techsupport': 3870, 'thecustomerexperiencemanager': 3902, 'sync': 3831, 'td': 3863, 'tr': 3995, 'networkrog': 2538, 'hint': 1762, 'sub': 3766, 'unreasonable': 4109, 'unethical': 4085, 'accurate': 18, 'wpppi': 4356, 'qjhmr': 3095, 'bmj': 425, 'erick': 1259, '上星': 4475, 'iworklab': 1997, 'personalized': 2802, 'discover': 1068, 'stream': 3746, 'inside': 1911, 'utah': 4152, 'rsl': 3352, 'broadcast': 475, 'territory': 3883, 'sample': 3375, 'whatidity': 4293, 'ace': 20, 'cc': 581, 'cbbeb': 579, 'silliman': 3549, 'brother': 478, 'instagram': 1913, 'shywh': 3538, 'divorce': 1093, 'mechanism': 2345, 'sidearm': 3542, 'getcontentservice': 1570, 'puh': 3060, 'poh': 2883, 'layout': 2145, 'los': 2244, 'caleb': 532, 'squad': 3670, 'previously': 2956, 'gramph': 1655, 'entire': 1244, 'feeling': 1393, 'bnj': 426, 'moto': 2455, 'integrity': 1930, 'adx': 76, 'cramp': 838, 'ifndef': 1839, 'mhcc': 2377, 'linux': 2198, 'zarissa': 4457, 'everybody': 1283, 'awkward': 302, 'gravity': 1663, 'spokeswoman': 3665, 'texas': 3891, 'court': 829, 'criminal': 853, 'appeal': 190, 'theuttere': 3923, 'hack': 1695, 'stackoverflow': 3687, 'qxc': 3118, 'bqd': 455, 'commitment': 722, 'simpson': 3557, 'pad': 2714, 'vitalyn': 4222, 'realbitcoin': 3155, 'memberactivity': 2357, 'jarewhisper': 2009, 'praise': 2927, 'speed': 3655, 'exhausted': 1310, 'physically': 2824, 'required': 3271, 'tick': 3941, 'launcher': 2141, 'un': 4068, 'disconnection': 1063, 'julia': 2062, 'sebastian': 3435, 'definite': 959, 'straightforward': 3740, 'confessional': 750, 'blacklist': 410, 'mon': 2444, 'sep': 3463, 'bst': 485, 'jb': 2013, 'target': 3854, 'steamcommunity': 3716, 'comprehensive': 740, 'closely': 679, 'authority': 280, 'webrtc': 4272, 'troublesh': 4022, 'grow': 1676, 'plex': 2868, 'powershell': 2920, 'illustrative': 1847, 'gordon': 1642, 'respectful': 3288, 'fair': 1353, 'flashplayer': 1442, 'panther': 2728, 'peppermint': 2784, 'slack': 3580, 'permit': 2798, 'vault': 4176, 'thirty': 3928, 'dayscleanup': 931, 'noop': 2577, 'bj': 405, 'qf': 3093, 'frost': 1502, 'mascara': 2314, 'paulyme': 2759, 'template': 3877, 'giantalabaster': 1590, 'ddfbbefaccdca': 934, 'map': 2301, 'complicated': 737, 'tiny': 3953, 'son': 3623, 'ykvxrjegljq': 4443, 'justin': 2070, 'photographer': 2820, 'diagnose': 1023, 'traumatic': 4011, 'stress': 3748, 'disorder': 1078, 'frighteningly': 1500, 'fear': 1382, 'manipulate': 2291, 'xclip': 4378, 'kinect': 2100, 'headset': 1730, 'incur': 1882, 'straighten': 3739, 'sbd': 3395, 'respective': 3289, 'ownership': 2704, 'citadel': 650, 'yelp': 4437, 'thankyou': 3895, 'santosh': 3381, 'sotu': 3634, 'nougat': 2589, 'cyanide': 894, 'powder': 2916, 'energizer': 1230, 'processor': 2981, 'ppp': 2923, 'switching': 3826, 'locked': 2227, 'unaware': 4074, 'watson': 4263, 'qt': 3100, 'comply': 738, 'productshop': 3007, 'ride': 3326, 'tacom': 3843, 'nam': 2501, 'productpurchaseproc': 3004, 'productinstallproc': 2992, 'productre': 3005, 'ifape': 1836, 'vs': 4234, 'craigslist': 837, 'careful': 554, 'gsm': 1679, 'plist': 2870, 'safety': 3369, 'migrate': 2390, 'modern': 2435, 'dolphin': 1109, 'forsale': 1472, 'jrinso': 2051, 'nfl': 2550, 'gimp': 1597, 'sit': 3566, 'counter': 821, 'giant': 1589, 'proportion': 3031, 'nature': 2510, 'pleaseplan': 2862, 'honor': 1783, 'nicely': 2554, 'grammy': 1654, 'klausjohansen': 2110, 'disrepair': 1082, 'productversion': 3010, 'graphene': 1658, 'addendum': 46, 'customize': 886, 'found': 1476, 'hiftrax': 1756, 'hifi': 1755, 'trent': 4013, 'neil': 2528, 'starter': 3700, 'propagate': 3027, 'sylvia': 3828, 'bt': 486, 'tinkfactory': 3952, 'showthread': 3531, 'grateful': 1662, 'reminder': 3239, 'const': 777, 'parse': 2736, 'systemctl': 3834, 'usr': 4148, 'requested': 3268, 'giorgio': 1600, 'gio': 1599, 'nuvo': 2607, 'nuo': 2604, 'gatsby': 1545, 'gif': 1592, 'recolor': 3178, 'repaint': 3250, 'npdc': 2592, 'tiger': 3945, 'rookie': 3341, 'oidf': 2637, 'oid': 2636, 'oncepirate': 2646, 'developers': 1012, 'odd': 2624, 'attention': 263, 'recreate': 3188, 'ashbrook': 234, 'movie': 2461, 'attachment': 258, 'scrub': 3428, 'linuxfoundation': 2199, 'pipermail': 2839, 'foundation': 1477, 'david': 923, 'keyword': 2089, 'lint': 2197, 'impossible': 1860, 'sa': 3365, 'devastation': 1009, 'hurricane': 1814, 'irene': 1979, 'powerful': 2918, 'storm': 3736, 'surge': 3807, 'pqd': 2925, 'tivo': 3960, 'iid': 1843, 'baca': 307, 'acc': 7, 'fb': 1376, 'dbdda': 932, 'slider': 3588, 'crisp': 854, 'solid': 3611, 'digitize': 1039, 'depressive': 985, 'hundred': 1811, 'twenty': 4049, 'dianne': 1029, 'stderr': 3712, 'lang': 2129, 'throwable': 3939, 'wrappedprintstream': 4357, 'println': 2966, 'refunded': 3205, 'literally': 2209, 'mitsuya': 2419, 'shikishi': 3506, 'hopefully': 1785, 'means': 2340, 'stack': 3686, 'gilbert': 1596, 'pant': 2727, 'purchased': 3069, 'poisonous': 2885, 'stomach': 3729, 'taste': 3858, 'crap': 839, 'anti': 171, 'vinyl': 4206, 'graham': 1652, 'saucecarter': 3388, 'decent': 947, 'coverage': 833, 'dist': 1083, 'cli': 670, 'grad': 1649, 'hijo': 1759, 'bud': 493, 'tax': 3859, 'rockshark': 3336, 'adblock': 43, 'whitelist': 4300, 'satisfy': 3386, 'zach': 4456, 'durstine': 1153, 'deitus': 964, 'ofatchewan': 2627, 'flamestock': 1440, 'darkness': 911, 'protagonist': 3034, 'habit': 1693, 'embrace': 1207, 'relation': 3224, 'dennis': 978, 'xinput': 4407, 'mystery': 2498, 'real': 3154, 'researcher': 3274, 'suspend': 3815, 'pcbeth': 2769, 'activation': 32, 'observe': 2617, 'xp': 4416, 'sellercare': 3452, 'moderator': 2434, 'bravo': 459, 'cry': 860, 'fantasy': 1362, 'ground': 1674, 'unplug': 4106, 'jobbridge': 2033, 'sce': 3402, 'authent': 275, 'gourmet': 1644, 'grocery': 1673, 'bool': 437, 'inherit': 1898, 'pyx': 3090, 'ryan': 3363, 'chron': 641, 'biscuit': 400, 'stereotype': 3722, 'sleight': 3584, 'pearl': 2773, 'compliant': 736, 'cfo': 600, 'overtime': 2700, 'bugfixe': 498, 'kiki': 2097, 'delicious': 968, 'passionate': 2745, 'bryce': 483, 'davlovesgoodfood': 928, 'shapel': 3497, 'tyrumiko': 4061, 'razer': 3143, 'casino': 568, 'creak': 845, 'jeb': 2015, 'jebj': 2016, 'vincenzo': 4204, 'interval': 1948, 'seth': 3476, 'visser': 4217, 'sick': 3539, 'izqz': 1998, 'getelementsbytype': 1572, 'charsequence': 616, 'arrvalue': 225, 'afafbffddfe': 78, 'valute': 4164, 'recognise': 3176, 'eur': 1275, 'iain': 1822, 'giamt': 1588, 'suburb': 3777, 'atlanta': 254, 'spokesperson': 3664, 'ascertain': 233, 'genuine': 1562, 'distance': 1084, 'typically': 4059, 'dictatorship': 1030, 'sensitive': 3460, 'encoder': 1220, 'fave': 1372, 'periodically': 2794, 'inspect': 1912, 'used': 4139, 'monetary': 2446, 'pepsi': 2785, 'cpu': 834, 'shawne': 3500, 'mjw': 2422, 'charliescene': 614, 'introduction': 1953, 'reduce': 3196, 'popup': 2896, 'focus': 1451, 'slight': 3589, 'settlingcocoa': 3482, 'googleadapter': 1639, 'endfunction': 1226, 'recourse': 3184, 'frustrate': 1504, 'alexis': 112, 'influence': 1891, 'xavier': 4372, 'xin': 4406, 'xiang': 4404, 'xong': 4415, 'xun': 4421, 'xiao': 4405, 'liable': 2176, 'democracynow': 975, 'evening': 1279, 'sbin': 3396, 'inclusion': 1874, 'gemmich': 1553, 'bubble': 490, 'jkbcjevzh': 2030, 'xdyj': 4388, 'hippocamp': 1765, 'zgxsmdi': 4463, 'converter': 794, 'contract': 788, 'kobo': 2115, 'bacef': 308, 'paydirt': 2763, 'disclaimer': 1059, 'jenny': 2020, 'dynamo': 1156, 'modder': 2428, 'nutshell': 2606, 'asc': 232, 'breakin': 463, 'cr': 836, 'adoptivecarsystem': 62, 'vein': 4183, 'australian': 274, 'unfortunate': 4089, 'cake': 530, 'egg': 1187, 'enduser': 1229, 'operating': 2661, 'unplugged': 4107, 'pillow': 2832, 'pa': 2707, 'realistic': 3157, 'assistant': 245, 'aria': 215, 'customization': 885, 'minecraftforge': 2404, 'fmlmodcontainer': 1450, 'constructcontainer': 779, 'partial': 2738, 'lifecycle': 2187, 'path': 2752, 'corporation': 807, 'tryout': 4035, 'kf': 2090, 'repository': 3261, 'tiddler': 3943, 'cj': 656, 'ordering': 2673, 'chromium': 640, 'pnn': 2878, 'securely': 3440, 'featured': 1385, 'criterion': 856, 'liannekelee': 2177, 'bygpzhcm': 517, 'kastel': 2075, 'benkastel': 375, 'urgent': 4131, 'tile': 3946, 'emphasis': 1214, 'concurrency': 747, 'keygen': 2087, 'syntax': 3832, 'bfbedba': 385, 'nol': 2570, 'executable': 1307, 'mummy': 2476, 'unsold': 4112, 'lester': 2168, 'ny': 2609, 'pause': 2760, 'slowly': 3594, 'ambulance': 143, 'sam': 3373, 'sambrowne': 3374, 'hollywood': 1778, 'shyakumir': 3537, 'music': 2479, 'transcode': 4005, 'cas': 564, 'rt': 3354, 'vendorsparklab': 4186, 'sf': 3487, 'admit': 59, 'shocked': 3514, 'ebook': 1169, 'swanese': 3818, 'lipstick': 2201, 'coopinion': 800, 'role': 3339, 'stone': 3730, 'translator': 4009, 'mamut': 2285, 'beware': 381, 'shoe': 3515, 'mint': 2408, 'sccm': 3401, 'nation': 2507, 'firstny': 1426, 'symptom': 3830, 'underlying': 4081, 'sentence': 3461, 'precede': 2929, 'uncrack': 4078, 'borrowing': 441, 'fraud': 1487, 'cosmetic': 812, 'agency': 88, 'qdg': 3091, 'pende': 2779, 'jennyp': 2021, 'crate': 841, 'caffeine': 525, 'experiment': 1318, 'sweetener': 3821, 'yuppie': 4455, 'generation': 1558, 'lidia': 2184, 'licensed': 2183, 'clinical': 675, 'pharmacist': 2813, 'prescription': 2947, 'medicine': 2351, 'vicovir': 4197, 'prozac': 3046, 'walmart': 4249, 'dude': 1146, 'irritate': 1981, 'dabf': 897, 'vendouristcenter': 4187, 'room': 3342, 'greet': 1667, 'quietly': 3114, 'getuserid': 1581, 'rogers': 3337, 'mikerobbin': 2394, 'duke': 1149, 'kelly': 2081, 'shoplift': 3520, 'doctype': 1106, 'xmlns': 4412, 'meta': 2371, 'charset': 617, 'young': 4448, 'adore': 63, 'dearly': 941, 'heπ': 1751, 'resold': 3282, 'reputable': 3266, 'giddy': 1591, 'dippy': 1045, 'preloaded': 2939, 'sid': 3540, 'degree': 962, 'jody': 2034, 'anderson': 153, 'erica': 1258, 'communicate': 724, 'jump': 2066, 'gz': 1692, 'nerf': 2531, 'musician': 2480, 'entrepreneur': 1247, 'dream': 1134, 'adsense': 64, 'connector': 769, 'width': 4308, 'height': 1741, 'interact': 1935, 'cisco': 649, 'lenny': 2166, 'appcompat': 188, 'richard': 3323, 'aultman': 272, 'tedward': 3872, 'wire': 4320, 'ami': 148, 'hq': 1797, 'density': 979, 'gloss': 1621, 'perspective': 2804, 'barcode': 336, 'shout': 3528, 'hannah': 1708, 'expiration': 1321, 'ini': 1899, 'lmao': 2216, 'salesforce': 3372, 'annoying': 165, 'soooo': 3628, 'tobitebasket': 3965, 'sharon': 3499, 'lachlan': 2122, 'nurse': 2605, 'boston': 444, 'teach': 3864, 'health': 1732, 'columbia': 706, 'vain': 4159, 'emulator': 1217, 'apache': 181, 'mei': 2355, 'mai': 2270, 'wu': 4364, 'geolphobee': 1564, 'ithead': 1994, 'misbehave': 2410, 'behavior': 366, 'alternative': 135, 'tired': 3957, 'hate': 1720, 'shit': 3512, 'wise': 4322, 'gas': 1542, 'shutdown': 3534, 'controller': 790, 'bang': 331, 'ex': 1288, 'equiv': 1255, 'ole': 2643, 'extreme': 1339, 'smell': 3601, 'scent': 3405, 'flower': 1447, 'homework': 1780, 'sommer': 3622, 'sawyer': 3392, 'cig': 645, 'blister': 413, 'yr': 4452, 'cm': 686, 'resolver': 3285, 'mute': 2482, 'hw': 1818, 'pastebin': 2749, 'bjvvjm': 408, 'bfw': 387, 'peter': 2808, 'schreiber': 3413, 'haycott': 1723, 'pizza': 2844, 'hut': 1817, 'specified': 3652, 'xdram': 4387, 'eagle': 1159, 'pendant': 2778, 'backerkit': 311, 'logue': 2236, 'webapp': 4269, 'bdn': 354, 'shy': 3536, 'journalism': 2048, 'unlimited': 4103, 'national': 2508, 'international': 1945, 'sandy': 3378, 'gc': 1549, 'mechanic': 2344, 'glusi': 1623, 'indication': 1886, 'approximate': 205, 'strawberry': 3743, 'temporarily': 3878, 'bid': 391, 'nomex': 2572, 'nome': 2571, 'kirk': 2103, 'six': 3569, 'balthazar': 323, '家沙': 4476, 'ly': 2263, 'xmmzw': 4413, 'pxe': 3087, 'stringify': 3751, 'anastasia': 152, 'dlc': 1094, 'fitnessforbrow': 1433, 'resolution': 3283, 'taco': 3842, 'gitignore': 1606, 'alias': 114, 'reading': 3151, 'jquery': 2050, 'caflex': 526, 'colyapa': 708, 'mytru': 2499, 'yale': 4431, 'michele': 2384, 'kepel': 2082, 'horton': 1786, 'copycat': 802, 'behalf': 364, 'hochschild': 1774, 'undead': 4079, 'dimensional': 1042, 'fable': 1344, 'freebie': 1489, 'somewhere': 3621, 'peopie': 2782, 'rosa': 3345, 'silva': 3551, 'nps': 2594, 'specialize': 3649, 'rent': 3246, 'boettke': 430, 'token': 3971, 'medbfa': 2348, 'extent': 1335, 'productive': 2994, 'relax': 3227, 'christmas': 636, 'bookmark': 436, 'japanic': 2006, 'poly': 2892, 'ctv': 865, 'eshop': 1262, 'cannabis': 547, 'countless': 823, 'across': 28, 'globe': 1620, 'quarter': 3105, 'paper': 2730, 'restoration': 3300, 'oret': 2676, 'waitress': 4244, 'weekend': 4277, 'bandwidth': 330, 'pssd': 3052, 'bec': 358, 'ab': 1, 'eaddfc': 1158, 'mara': 2303, 'markup': 2312, 'dd': 933, 'dev': 1008, 'zero': 4461, 'msr': 2471, 'birthday': 399, 'sensible': 3459, 'deserve': 992, 'sincere': 3559, 'rectify': 3189, 'shtml': 3532, 'css': 864, 'adapt': 40, 'candycandy': 546, 'michai': 2383, 'laser': 2134, 'spoke': 3663, 'hg': 1753, 'hx': 1820, 'wx': 4367, 'darius': 908, 'degrootis': 963, 'dgrootis': 1019, 'cse': 862, 'fcs': 1380, 'au': 267, 'enlarge': 1235, 'bluemos': 423, 'comma': 716, 'cg': 601, 'gizmo': 1610, 'productcode': 2986, 'eec': 1183, 'fbeb': 1378, 'lie': 2185, 'backocalypse': 313, 'saturday': 3387, 'interference': 1941, 'personally': 2803, 'yaho': 4429, 'zendesk': 4460, 'additive': 50, 'nucleus': 2599, 'coating': 693, 'technology': 3869, 'msdn': 2468, 'macbook': 2265, 'pizzeria': 2845, 'clip': 676, 'mogul': 2439, 'elvipment': 1202, 'gabf': 1528, 'xz': 4427, 'citizen': 653, 'guidance': 1683, 'reorder': 3248, 'graphx': 1660, 'schn': 3411, 'prediction': 2932, 'schulz': 3414, 'wonderful': 4336, 'gentleman': 1561, 'please': 2860, 'areatown': 213, 'worldwide': 4348, 'mccain': 2332, 'a株に出する': 304, 'em': 1203, 'cargo': 556, 'reseting': 3278, 'trading': 4001, 'bedd': 360, 'bf': 383, 'cab': 520, 'baylor': 347, 'oklahoma': 2641, 'zerogel': 4462, 'comfortable': 715, 'excludedlist': 1302, 'reondin': 3247, 'informative': 1895, 'oririt': 2684, 'encrypt': 1222, 'basic': 339, 'secret': 3437, 'decision': 949, 'unzip': 4121, 'deluxe': 972, 'phi': 2817, 'therapeutic': 3916, 'susan': 3813, 'sch': 3406, 'closure': 680, 'joshuex': 2045, 'desktop': 999, 'kjørn': 2109, 'orgel': 2680, 'pleasetrump': 2864, 'hotmail': 1790, 'ng': 2551, 'quiet': 3113, 'background': 312, 'engine': 1231, 'doctorate': 1105, 'economic': 1174, 'law': 2143, 'art': 227, 'mathematics': 2320, 'cancellation': 544, 'soul': 3636, 'endregion': 1228, 'raint': 3127, 'thestpiercerfitz': 3921, 'screw': 3425, 'gov': 1646, 'gerald': 1565, 'liter': 2208, 'bb': 349, 'xiphone': 4408, 'doc': 1101, 'apr': 206, 'stamp': 3692, 'purchasement': 3071, 'rasmus': 3135, 'bluew': 424, 'along': 124, 'irememe': 1978, 'titanik': 3958, 'unhappy': 4091, 'convince': 795, 'iis': 1844, 'identifi': 1830, 'pwc': 3083, 'randall': 3130, 'modelversion': 2431, 'ricardo': 3321, 'annoyed': 164, 'riddle': 3325, 'neilson': 2529, 'computing': 743, 'miner': 2405, 'accordance': 16, 'nwx': 2608, 'recogn': 3175, 'violate': 4207, 'earn': 1161, 'grep': 1670, 'counselor': 819, 'charm': 615, 'rafael': 3123, 'southfield': 3640, 'deck': 950, 'downtown': 1126, 'jabz': 2000, 'worling': 4349, 'worlingcdn': 4350, 'rotten': 3346, 'tomato': 3974, 'freechords': 1491, 'freechord': 1490, 'slamband': 3581, 'mom': 2442, 'yokono': 4444, 'katusaki': 2077, '超地理伝獣': 4477, 'registry': 3213, 'xboost': 4375, 'bluegrin': 422, 'myaccount': 2483, 'bebafecacae': 357, 'unwanted': 4120, 'purchasedat': 3070, 'welp': 4285, 'ple': 2858, 'davidjmc': 924, 'emotional': 1213, 'dad': 899, 'british': 474, 'yahoo': 4430, 'pursuant': 3078, 'fda': 1381, 'regulation': 3216, 'prohibit': 3017, 'substance': 3776, 'srr': 3676, 'hipkick': 1764, 'readable': 3148, 'facilitating': 1348, 'crispin': 855, 'readily': 3150, 'tablet': 3838, 'alaska': 107, 'unacceptable': 4070, 'userbase': 4142, 'possibility': 2904, 'centre': 590, 'customersupport': 882, 'conversation': 792, 'getproductcount': 1575, 'orter': 2685, 'scion': 3417, 'attend': 262, 'mimi': 2398, 'printing': 2965, 'exclusion': 1303, 'jersey': 2023, 'envelope': 1249, 'handler': 1706, 'gotcha': 1643, 'gmaxwell': 1627, 'feed': 1390, 'brief': 470, 'hwang': 1819, 'michaelkhunt': 2381, 'multi': 2474, 'thrift': 3936, 'autism': 284, 'cmp': 689, 'std': 3711, 'ptr': 3055, 'dtor': 1145, 'thefateofchick': 3904, 'ty': 4056, 'possession': 2903, 'stores': 3734, 'turtle': 4041, 'matching': 2317, 'lookup': 2240, 'mcdata': 2333, 'gonzalo': 1634, 'mypci': 2495, 'echocider': 1172, 'liveris': 2212, 'introduce': 1952, 'medibot': 2349, 'accomplish': 14, 'cvs': 892, 'pharmacy': 2815, 'cure': 869, 'hospital': 1787, 'clinic': 673, 'confusing': 762, 'whitehead': 4299, 'davidpwhitehead': 925, 'facilitate': 1347, 'aid': 97, 'shopper': 3522, 'beyond': 382, 'giftstore': 1595, 'restaurant': 3298, 'unbranded': 4075, 'cooler': 798, 'prototype': 3038, 'scale': 3397, 'caution': 576, 'afternoon': 85, 'compensate': 730, 'julie': 2063, 'shoprunner': 3524, 'twitch': 4052, 'dgplayer': 1018, 'nz': 2610, 'niece': 2556, 'explanation': 1325, 'associated': 247, 'preg': 2936, 'nok': 2569, 'xcfcabc': 4377, 'num': 2601, 'subsidize': 3774, 'coin': 700, 'wholesale': 4302, 'gamer': 1536, 'silly': 3550, 'automate': 286, 'cat': 569, 'proc': 2976, 'applet': 193, 'bom': 432, 'pharmaconus': 2814, 'sus': 3812, 'monthly': 2452, 'surface': 3806, 'sven': 3817, 'nixalux': 2563, 'problematic': 2975, 'tw': 4045, 'sooo': 3627, 'humble': 1810, 'reflip': 3201, 'hydra': 1821, 'diamond': 1028, 'julietr': 2064, 'versatile': 4194, 'fragrance': 1484, 'respected': 3287, 'surrender': 3810, 'trip': 4020, 'onscreen': 2654, 'alzwain': 140, 'sotruder': 3633, 'xfe': 4400, 'xeafd': 4391, 'xaac': 4368, 'kaine': 2073, 'thebern': 3899, 'quit': 3115, 'dnc': 1099, 'elector': 1195, 'race': 3121, 'darth': 914, 'vader': 4158, 'darkside': 912, 'bold': 431, 'sweden': 3819, 'strict': 3749, 'ecommerce': 1173, 'thestooler': 3920, 'sms': 3604, 'bdkjl': 353, 'thingiverse': 3925, 'unencrypted': 4084, 'installed': 1917, 'ee': 1181, 'fluctuation': 1448, 'loggedin': 2230, 'launchpad': 2142, 'bittorrent': 404, 'enthusiasm': 1243, 'percent': 2787, 'artist': 230, 'oversize': 2699, 'xvi': 4422, 'serious': 3469, 'courtney': 831, 'fury': 1522, 'mollykristoph': 2441, 'initialize': 1902, 'itemid': 1993, 'reproduce': 3264, 'myhaireddog': 2493, 'cherry': 626, 'chocolate': 632, 'defect': 956, 'getbundle': 1569, 'productprice': 3002, 'nqehzduj': 2595, 'gamergate': 1537, 'sethaj': 3477, 'pastify': 2750, 'stephen': 3721, 'productinfo': 2991, 'samurai': 3377, 'utility': 4155, 'wmiobject': 4332, 'plied': 2869, 'nzxt': 2611, 'character': 610, 'sunnyface': 3797, 'prove': 3041, 'thebomber': 3901, 'alsoparent': 130, 'european': 1277, 'diameter': 1027, 'costly': 815, 'primarily': 2960, 'expirebottle': 1323, 'exploit': 1327, 'disconnected': 1062, 'strategy': 3742, 'sugar': 3784, 'crush': 859, 'ranking': 3134, 'zip': 4466, 'googleplay': 1640, 'pissed': 2842, 'kirkwatson': 2104, 'customisable': 883, 'customise': 884, 'padding': 2715, 'custodian': 877, 'newbies': 2543, 'verepreterous': 4190, 'ravi': 3141, 'davy': 929, 'slick': 3587, 'das': 915, 'isvalid': 1990, 'merry': 2367, 'bureau': 504, 'jorge': 2043, 'uh': 4063, 'loadcontroller': 2219, 'distributestatemessage': 1087, 'lisper': 2202, 'farr': 1366, 'pt': 3054, 'repo': 3258, 'myamazon': 2484, 'squadron': 3671, 'cmdlet': 687, 'productpay': 3001, 'httpd': 1805, 'culturevariant': 868, 'angular': 158, 'possibly': 2906, 'frustrated': 1505, 'xbc': 4374, 'cance': 542, 'mountain': 2458, 'dew': 1016, 'kinetic': 2101, 'uncommon': 4077, 'dish': 1075, 'workflow': 4343, 'oblivion': 2615, 'pau': 2756, 'xdb': 4382, 'breeze': 464, 'golangotrix': 1632, 'gamefaqs': 1534, 'fifa': 1404, 'swim': 3824, 'mfr': 2376, 'slip': 3592, 'nora': 2578, 'davis': 927, 'zd': 4458, 'vaporizer': 4169, 'tricky': 4018, 'unavailability': 4072, 'hoc': 1773, 'dudified': 1147, 'nominal': 2573, 'schrader': 3412, 'nautilus': 2511, 'wesson': 4287, 'giftcard': 1594, 'candidate': 545, 'bitco': 402, 'beltcoin': 371, 'draft': 1130, 'bip': 398, 'ethereum': 1272, 'cap': 548, 'calf': 534, 'garland': 1541, 'land': 2128, 'baltimore': 324, 'md': 2336, 'rifle': 3327, 'association': 248, 'raven': 3140, 'thursday': 3940, 'checkerbox': 621, 'unfair': 4088, 'defun': 961, 'myproductwanted': 2496, 'interactive': 1936, 'union': 4096, 'examine': 1291, 'igslist': 1842, 'upper': 4128, 'wordpress': 4339, 'zoltan': 4468, 'van': 4166, 'winkle': 4318, 'brianke': 466, 'youpowersquare': 4449, 'purse': 3077, 'scientist': 3416, 'xfdcb': 4399, 'tough': 3987, 'vti': 4237, 'readme': 3152, 'babe': 305, 'asymmetrical': 253, 'painful': 2718, 'admittedly': 60, 'sip': 3565, 'investment': 1962, 'saving': 3391, 'running': 3357, 'xyxqvxje': 4426, 'pamela': 2723, 'cjubey': 658, 'oz': 2706, 'lately': 2138, 'classname': 665, 'nothinwaffle': 2585, 'cajdfc': 529, 'ryanbryan': 3364, 'arrest': 222, 'detain': 1005, 'albany': 108, 'cbsnewyork': 580, 'reveal': 3310, 'sfx': 3488, 'pwne': 3085, 'thedocs': 3903, 'wp': 4355, 'maintainer': 2276, 'takyo': 3848, 'busy': 507, 'jkcrut': 2031, 'gingrich': 1598, 'bsa': 484, 'gold': 1633, 'behave': 365, 'interesting': 1939, 'echo': 1171, 'kitchen': 2106, 'eat': 1167, 'gain': 1529, 'uipybar': 4065, 'aboutume': 4, 'harmless': 1713, 'rc': 3144, 'caveat': 577, 'dpix': 1128, 'jessica': 2024, 'nil': 2560, 'baz': 348, 'tekken': 3873, 'takara': 3846, 'shinkawa': 3507, 'ntt': 2598, 'identical': 1829, 'carrier': 560, 'geographic': 1563, 'xfirmware': 4402, 'clinicable': 674, 'machlab': 2267, 'smash': 3600, 'pump': 3063, 'scheduling': 3410, 'suggestnfl': 3787, 'depth': 986, 'peterbrown': 2809, 'jwittmann': 2071, 'johnvibald': 2038, 'tomjak': 3976, 'waiting': 4243, 'mami': 2284, 'aoki': 180, 'gk': 1612, 'negate': 2526, 'overall': 2696, 'yorkan': 4446, 'ofmature': 2633, 'sj': 3573, 'rp': 3350, 'lo': 2217, 'vc': 4178, 'wf': 4291, 'sigh': 3545, 'junebug': 2068, 'dither': 1090, 'zinski': 4465, 'tween': 4047, 'scamster': 3399, 'custody': 878, 'unstable': 4114, 'winsock': 4319, 'jury': 2069, 'med': 2347, 'physical': 2823, 'ritebook': 3331, 'potentially': 2911, 'conflicting': 759, 'inconsistent': 1877, 'eepel': 1184, 'bibdsl': 390, 'dandel': 904, 'undefine': 4080, 'tmsne': 3963, 'ws': 4363, 'bhpu': 388, 'lorraine': 2243, 'lor': 2241, 'skip': 3576, 'growth': 1677, 'exp': 1312, 'outlet': 2691, 'borgio': 440, 'purchaseoubtedly': 3072, 'speak': 3645, 'stare': 3698, 'neck': 2524, 'eyebrow': 1342, 'logic': 2231, 'injector': 1903, 'onlink': 2652, 'replay': 3256, 'gsp': 1680, 'utilization': 4156, 'upset': 4129, 'beside': 378, 'pouchy': 2914, 'poc': 2880, 'jj': 2029, 'legit': 2162, 'aug': 270, 'pmiability': 2876, 'unintentional': 4095, 'malicious': 2282, 'oregon': 2675, 'breach': 461, 'attack': 259, 'vxcbfqnusfm': 4240, 'usps': 4147, 'creativate': 847, 'traditionalsignin': 4002, 'anagram': 150, 'clue': 683, 'srudmell': 3678, 'pdp': 2771, 'helpline': 1745, 'position': 2901, 'fullscreen': 1512, 'hlm': 1769, 'afe': 79, 'insecure': 1909, 'venture': 4188, 'pp': 2921, 'cortana': 811, 'troubleshooter': 4024, 'productstorename': 3008, 'maketha': 2280}\n"
     ]
    }
   ],
   "source": [
    "print(tfidf_vectorizer.vocabulary_)"
   ]
  },
  {
   "cell_type": "code",
   "execution_count": 80,
   "id": "68773562",
   "metadata": {},
   "outputs": [],
   "source": [
    "dummy = {'a':5,'b':22,'c':2}\n",
    "# sorted(dummy.keys())"
   ]
  },
  {
   "cell_type": "code",
   "execution_count": 81,
   "id": "ee45cdae",
   "metadata": {},
   "outputs": [
    {
     "data": {
      "text/plain": [
       "dict_keys(['a', 'b', 'c'])"
      ]
     },
     "execution_count": 81,
     "metadata": {},
     "output_type": "execute_result"
    }
   ],
   "source": [
    "dummy.keys()"
   ]
  },
  {
   "cell_type": "code",
   "execution_count": 84,
   "id": "ca756106",
   "metadata": {},
   "outputs": [
    {
     "data": {
      "text/plain": [
       "[22, 5, 2]"
      ]
     },
     "execution_count": 84,
     "metadata": {},
     "output_type": "execute_result"
    }
   ],
   "source": [
    "sorted(dummy.values(),reverse=True)"
   ]
  },
  {
   "cell_type": "markdown",
   "id": "0bc08f38",
   "metadata": {},
   "source": []
  }
 ],
 "metadata": {
  "kernelspec": {
   "display_name": "Python 3 (ipykernel)",
   "language": "python",
   "name": "python3"
  },
  "language_info": {
   "codemirror_mode": {
    "name": "ipython",
    "version": 3
   },
   "file_extension": ".py",
   "mimetype": "text/x-python",
   "name": "python",
   "nbconvert_exporter": "python",
   "pygments_lexer": "ipython3",
   "version": "3.9.13"
  }
 },
 "nbformat": 4,
 "nbformat_minor": 5
}
